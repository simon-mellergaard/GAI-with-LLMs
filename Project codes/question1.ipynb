{
  "cells": [
    {
      "cell_type": "markdown",
      "metadata": {
        "id": "view-in-github",
        "colab_type": "text"
      },
      "source": [
        "<a href=\"https://colab.research.google.com/github/simon-mellergaard/GAI-with-LLMs/blob/main/Project%20codes/question1.ipynb\" target=\"_parent\"><img src=\"https://colab.research.google.com/assets/colab-badge.svg\" alt=\"Open In Colab\"/></a>"
      ]
    },
    {
      "cell_type": "markdown",
      "id": "52c70059",
      "metadata": {
        "id": "52c70059"
      },
      "source": [
        "# Project\n",
        "\n",
        "This is the answers to the questions in the project for the course"
      ]
    },
    {
      "cell_type": "markdown",
      "id": "7da947a9",
      "metadata": {
        "id": "7da947a9"
      },
      "source": [
        "## Question 1\n",
        "\n",
        "[Insert question here]"
      ]
    },
    {
      "cell_type": "code",
      "execution_count": 1,
      "id": "0937179e",
      "metadata": {
        "id": "0937179e",
        "outputId": "068d15d0-720f-498d-bb2a-f612358e5379",
        "colab": {
          "base_uri": "https://localhost:8080/"
        }
      },
      "outputs": [
        {
          "output_type": "stream",
          "name": "stdout",
          "text": [
            "foo\n"
          ]
        }
      ],
      "source": [
        "bar = \"foo\"\n",
        "print(bar)"
      ]
    }
  ],
  "metadata": {
    "language_info": {
      "name": "python"
    },
    "colab": {
      "provenance": [],
      "include_colab_link": true
    },
    "kernelspec": {
      "name": "python3",
      "display_name": "Python 3"
    }
  },
  "nbformat": 4,
  "nbformat_minor": 5
}