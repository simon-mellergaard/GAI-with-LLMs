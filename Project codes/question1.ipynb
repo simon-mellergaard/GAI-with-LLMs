{
 "cells": [
  {
   "cell_type": "markdown",
   "id": "52c70059",
   "metadata": {},
   "source": [
    "# Project\n",
    "\n",
    "This is the answers to the questions in the project for the course"
   ]
  },
  {
   "cell_type": "markdown",
   "id": "7da947a9",
   "metadata": {},
   "source": [
    "## Question 1\n",
    "\n",
    "[Insert question here]"
   ]
  },
  {
   "cell_type": "code",
   "execution_count": null,
   "id": "0937179e",
   "metadata": {},
   "outputs": [],
   "source": [
    "bar = \"foo\"\n",
    "print(bar)"
   ]
  }
 ],
 "metadata": {
  "language_info": {
   "name": "python"
  }
 },
 "nbformat": 4,
 "nbformat_minor": 5
}
