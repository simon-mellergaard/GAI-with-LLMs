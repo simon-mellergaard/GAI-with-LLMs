{
  "cells": [
    {
      "cell_type": "markdown",
      "metadata": {
        "id": "view-in-github",
        "colab_type": "text"
      },
      "source": [
        "<a href=\"https://colab.research.google.com/github/simon-mellergaard/GAI-with-LLMs/blob/main/Overview.ipynb\" target=\"_parent\"><img src=\"https://colab.research.google.com/assets/colab-badge.svg\" alt=\"Open In Colab\"/></a>"
      ]
    },
    {
      "cell_type": "markdown",
      "source": [
        "# Overview of the course\n",
        "\n",
        "This document contains overview of the GAI with LLMs course, including useful functions and libraries, as well as setting up colab"
      ],
      "metadata": {
        "id": "MAtUMoXD8DJw"
      }
    },
    {
      "cell_type": "markdown",
      "source": [
        "## Setting up with HuggingFace\n",
        "\n",
        "The following logs into huggingface using a secret."
      ],
      "metadata": {
        "id": "88zSGjHh8P5_"
      }
    },
    {
      "cell_type": "code",
      "execution_count": 1,
      "metadata": {
        "id": "lIYdn1woOS1n"
      },
      "outputs": [],
      "source": [
        "# Insert code here."
      ]
    },
    {
      "cell_type": "markdown",
      "source": [
        "## General functions\n",
        "\n",
        "Different functions and libraries are listed here."
      ],
      "metadata": {
        "id": "6GODmAa78cUB"
      }
    },
    {
      "cell_type": "markdown",
      "source": [
        "### Topic 1: generating text (or whatever)\n",
        "\n",
        "Here are some good functions:"
      ],
      "metadata": {
        "id": "P-iLX0s08hIg"
      }
    },
    {
      "cell_type": "code",
      "source": [
        "# More code"
      ],
      "metadata": {
        "id": "VE9gdZBB8mLy"
      },
      "execution_count": 2,
      "outputs": []
    }
  ],
  "metadata": {
    "colab": {
      "provenance": [],
      "include_colab_link": true
    },
    "kernelspec": {
      "display_name": "Python 3",
      "name": "python3"
    }
  },
  "nbformat": 4,
  "nbformat_minor": 0
}
