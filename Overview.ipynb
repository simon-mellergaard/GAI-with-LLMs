{
  "cells": [
    {
      "cell_type": "markdown",
      "metadata": {
        "id": "view-in-github",
        "colab_type": "text"
      },
      "source": [
        "<a href=\"https://colab.research.google.com/github/simon-mellergaard/GAI-with-LLMs/blob/main/Overview.ipynb\" target=\"_parent\"><img src=\"https://colab.research.google.com/assets/colab-badge.svg\" alt=\"Open In Colab\"/></a>"
      ]
    },
    {
      "cell_type": "markdown",
      "source": [
        "# Overview of the course\n",
        "\n",
        "This document contains overview of the GAI with LLMs course, including useful functions and libraries, as well as setting up colab"
      ],
      "metadata": {
        "id": "MAtUMoXD8DJw"
      }
    },
    {
      "cell_type": "markdown",
      "source": [
        "## Setting up with HuggingFace\n",
        "\n",
        "The following logs into huggingface using a secret."
      ],
      "metadata": {
        "id": "88zSGjHh8P5_"
      }
    },
    {
      "cell_type": "code",
      "execution_count": null,
      "metadata": {
        "id": "lIYdn1woOS1n"
      },
      "outputs": [],
      "source": [
        "# Logging in to Huggingface and wandb\n",
        "import os\n",
        "from google.colab import userdata\n",
        "from huggingface_hub import login as login_hf\n",
        "from wandb import login as login_wandb\n",
        "os.environ['HF_TOKEN'] = userdata.get('HF')\n",
        "os.environ['WANDB_TOKEN'] = userdata.get('wandb')\n",
        "login_hf(os.environ['HF_TOKEN'])\n",
        "login_wandb(key = os.environ['WANDB_TOKEN'])"
      ]
    },
    {
      "cell_type": "markdown",
      "source": [
        "## Setting up the device\n",
        "\n",
        "A function that gets the device"
      ],
      "metadata": {
        "id": "pdnLsdwWGN2k"
      }
    },
    {
      "cell_type": "code",
      "source": [
        "# Setting up the device (GPU). Code is taken from the genaibook-module.\n",
        "import torch\n",
        "\n",
        "def get_device(cuda_ordinal=None):\n",
        "    if torch.cuda.is_available():\n",
        "        return torch.device(\"cuda\", cuda_ordinal)\n",
        "    if torch.backends.mps.is_available():\n",
        "        return torch.device(\"mps\")\n",
        "    return torch.device(\"cpu\")\n",
        "\n",
        "device = get_device()"
      ],
      "metadata": {
        "id": "2L6iB2aMGQ5t"
      },
      "execution_count": null,
      "outputs": []
    },
    {
      "cell_type": "markdown",
      "source": [
        "## General functions\n",
        "\n",
        "Different functions and libraries are listed here."
      ],
      "metadata": {
        "id": "6GODmAa78cUB"
      }
    },
    {
      "cell_type": "markdown",
      "source": [
        "### Topic 1: generating text (or whatever)\n",
        "\n",
        "Here are some good functions:"
      ],
      "metadata": {
        "id": "P-iLX0s08hIg"
      }
    },
    {
      "cell_type": "code",
      "source": [
        "# More code"
      ],
      "metadata": {
        "id": "VE9gdZBB8mLy"
      },
      "execution_count": null,
      "outputs": []
    }
  ],
  "metadata": {
    "colab": {
      "provenance": [],
      "include_colab_link": true
    },
    "kernelspec": {
      "display_name": "Python 3",
      "name": "python3"
    }
  },
  "nbformat": 4,
  "nbformat_minor": 0
}