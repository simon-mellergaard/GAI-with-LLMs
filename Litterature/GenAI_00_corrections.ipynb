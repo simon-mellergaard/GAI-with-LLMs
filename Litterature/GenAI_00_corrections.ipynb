{
  "metadata": {
    "kernelspec": {
      "display_name": "Python 3",
      "name": "python3"
    },
    "language_info": {
      "name": "python"
    },
    "colab": {
      "provenance": [],
      "include_colab_link": true
    },
    "kaggle": {
      "accelerator": "none",
      "dataSources": [],
      "isInternetEnabled": true,
      "language": "python",
      "sourceType": "notebook",
      "isGpuEnabled": false
    }
  },
  "nbformat_minor": 0,
  "nbformat": 4,
  "cells": [
    {
      "cell_type": "markdown",
      "metadata": {
        "id": "view-in-github",
        "colab_type": "text"
      },
      "source": [
        "<a href=\"https://colab.research.google.com/github/simon-mellergaard/GAI-with-LLMs/blob/main/Litterature/GenAI_00_corrections.ipynb\" target=\"_parent\"><img src=\"https://colab.research.google.com/assets/colab-badge.svg\" alt=\"Open In Colab\"/></a>"
      ]
    },
    {
      "cell_type": "markdown",
      "source": [
        "[![Kaggle](https://kaggle.com/static/images/open-in-kaggle.svg)](https://www.kaggle.com/code/simonmellergaard/genai-00-corrections/edit)"
      ],
      "metadata": {
        "id": "KoQ5U4v9-kvB"
      }
    },
    {
      "cell_type": "markdown",
      "source": [
        "# Notes on Hands-On Notebooks\n",
        "\n",
        "*Author: Jesper N. Wulff*\n",
        "\n",
        "This notebook contains comments and solutions to problems I encountered when running the example code [from the notebooks](https://github.com/genaibook/genaibook?tab=readme-ov-file) from the O'Reilly book [Hands-On Generative AI with Transformers and Diffusion Models](https://www.oreilly.com/library/view/hands-on-generative-ai/9781098149239/)."
      ],
      "metadata": {
        "id": "woF_W8ob_EYJ"
      }
    },
    {
      "cell_type": "markdown",
      "source": [
        "### 02_transformers.ipynb\n",
        "\n",
        "#### **Issue 1.**\n",
        "\n",
        "Before running code block [8], make sure that `evaluate` is installed like this:\n",
        "\n",
        "```\n",
        "!pip install evaluate\n",
        "import evaluate\n",
        "```\n",
        "\n",
        "#### **Issue 2.**\n",
        "\n",
        "Add `report_to=\"none\"` to the `TrainingArguments` to avoid an API call to wandb.\n",
        "\n",
        "```\n",
        "training_args = TrainingArguments(\n",
        "    \"classifier-chapter4\",\n",
        "    push_to_hub=True,\n",
        "    num_train_epochs=2,\n",
        "    eval_strategy=\"epoch\",\n",
        "    per_device_train_batch_size=batch_size,\n",
        "    per_device_eval_batch_size=batch_size,\n",
        "    report_to=\"none\"\n",
        ")\n",
        "```\n",
        "\n",
        "#### **Issue 3.**\n",
        "Change the line that contains to the labels to this:\n",
        "\n",
        "```\n",
        "pred_labels = [int(pred[\"label\"].split(\"_\")[-1]) for pred in model_preds]\n",
        "```\n"
      ],
      "metadata": {
        "id": "0BvW8xG1_kMz"
      }
    }
  ]
}