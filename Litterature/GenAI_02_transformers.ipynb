{
  "cells": [
    {
      "cell_type": "markdown",
      "metadata": {
        "colab_type": "text",
        "id": "view-in-github"
      },
      "source": [
        "<a href=\"https://colab.research.google.com/github/simon-mellergaard/GAI-with-LLMs/blob/main/Litterature/GenAI_02_transformers.ipynb\" target=\"_parent\"><img src=\"https://colab.research.google.com/assets/colab-badge.svg\" alt=\"Open In Colab\"/></a>"
      ]
    },
    {
      "cell_type": "markdown",
      "metadata": {
        "id": "5zQ9K-Ms-8Qs"
      },
      "source": [
        "# Transformers"
      ]
    },
    {
      "cell_type": "markdown",
      "metadata": {
        "id": "21BxHPqj-8Qt"
      },
      "source": [
        "This notebook is a supplement to the Transformers Chapter of the [Hands-On Generative AI with Transformers and Diffusion Models](https://learning.oreilly.com/library/view/hands-on-generative-ai/9781098149239/) book. This notebooks includes:\n",
        "\n",
        "* The code from the book\n",
        "* Additional examples\n",
        "* Exercise solutions."
      ]
    },
    {
      "cell_type": "code",
      "execution_count": null,
      "metadata": {
        "id": "kS_un8Xh-8Qu"
      },
      "outputs": [],
      "source": [
        "from transformers import logging\n",
        "\n",
        "logging.set_verbosity_error()"
      ]
    },
    {
      "cell_type": "markdown",
      "metadata": {
        "id": "vUxxHKdz-8Qv"
      },
      "source": [
        "## A Language Model in Action"
      ]
    },
    {
      "cell_type": "markdown",
      "metadata": {
        "id": "DZlWCYrf-8Qw"
      },
      "source": [
        "### Tokenizing Text"
      ]
    },
    {
      "cell_type": "code",
      "execution_count": null,
      "metadata": {
        "id": "lSaZ_SMn-8Qw",
        "outputId": "b94ab720-01f8-49f9-eaee-90a678585373"
      },
      "outputs": [],
      "source": [
        "from transformers import AutoTokenizer\n",
        "\n",
        "# Use the id of the model you want to use\n",
        "# GPT-2 \"openai-community/gpt2\"\n",
        "# Qwen \"Qwen/Qwen2-0.5B\"\n",
        "# SmolLM \"HuggingFaceTB/SmolLM-135M\"\n",
        "\n",
        "prompt = \"It was a dark and stormy\"\n",
        "tokenizer = AutoTokenizer.from_pretrained(\"Qwen/Qwen2-0.5B\")\n",
        "input_ids = tokenizer(prompt).input_ids\n",
        "input_ids"
      ]
    },
    {
      "cell_type": "code",
      "execution_count": null,
      "metadata": {
        "id": "VebQiCMj-8Qx",
        "outputId": "4fe278a5-a39e-48da-e242-5bf8be19468f"
      },
      "outputs": [],
      "source": [
        "for t in input_ids:\n",
        "    print(t, \"\\t:\", tokenizer.decode(t))"
      ]
    },
    {
      "cell_type": "markdown",
      "metadata": {
        "id": "pi708T6f-8Qx"
      },
      "source": [
        "### Predicting Probabilities"
      ]
    },
    {
      "cell_type": "code",
      "execution_count": null,
      "metadata": {
        "id": "TwtH0F_T-8Qy"
      },
      "outputs": [],
      "source": [
        "from transformers import AutoModelForCausalLM\n",
        "\n",
        "model = AutoModelForCausalLM.from_pretrained(\"Qwen/Qwen2-0.5B\")"
      ]
    },
    {
      "cell_type": "code",
      "execution_count": null,
      "metadata": {
        "id": "QAlZI7u7-8Qy",
        "outputId": "fc732dd0-fa83-4818-c55a-cdf7fab39f7e"
      },
      "outputs": [],
      "source": [
        "# We tokenize again but specifying the tokenizer that we want it to\n",
        "# return a PyTorch tensor, which is what the model expects,\n",
        "# rather than a list of integers\n",
        "input_ids = tokenizer(prompt, return_tensors=\"pt\").input_ids\n",
        "\n",
        "outputs = model(input_ids)\n",
        "outputs.logits.shape  # An output for each input token"
      ]
    },
    {
      "cell_type": "code",
      "execution_count": null,
      "metadata": {
        "id": "lNLY-wAS-8Q0",
        "outputId": "2ac60bda-007c-4adf-daaf-0ac3dd83d77e"
      },
      "outputs": [],
      "source": [
        "final_logits = model(input_ids).logits[0, -1]  # The last set of logits\n",
        "final_logits.argmax()  # The position of the maximum"
      ]
    },
    {
      "cell_type": "code",
      "execution_count": null,
      "metadata": {
        "id": "B8-qsw_k-8Q0",
        "outputId": "c911c87c-c64d-45ee-b30e-cf934bacba25"
      },
      "outputs": [],
      "source": [
        "tokenizer.decode(final_logits.argmax())"
      ]
    },
    {
      "cell_type": "code",
      "execution_count": null,
      "metadata": {
        "id": "oFE0HBB8-8Q0",
        "outputId": "e096ecbd-0139-4ef6-d20d-f0c8275e7bac"
      },
      "outputs": [],
      "source": [
        "import torch\n",
        "\n",
        "top10_logits = torch.topk(final_logits, 10)\n",
        "for index in top10_logits.indices:\n",
        "    print(tokenizer.decode(index))"
      ]
    },
    {
      "cell_type": "code",
      "execution_count": null,
      "metadata": {
        "id": "6Vhc0ixi-8Q0",
        "outputId": "96a5c0a6-fbcb-456a-b466-b626f50ca604"
      },
      "outputs": [],
      "source": [
        "top10 = torch.topk(final_logits.softmax(dim=0), 10)\n",
        "for value, index in zip(top10.values, top10.indices):\n",
        "    print(f\"{tokenizer.decode(index):<10} {value.item():.2%}\")"
      ]
    },
    {
      "cell_type": "markdown",
      "metadata": {
        "id": "lGr55H3U-8Q1"
      },
      "source": [
        "### Generating Text"
      ]
    },
    {
      "cell_type": "markdown",
      "metadata": {
        "id": "9MtMrKQr-8Q1"
      },
      "source": [
        "**Greedy Decoding**"
      ]
    },
    {
      "cell_type": "code",
      "execution_count": null,
      "metadata": {
        "id": "vMuRXKHV-8Q1",
        "outputId": "c604065c-617f-4769-b032-4289a3808441"
      },
      "outputs": [],
      "source": [
        "output_ids = model.generate(input_ids, max_new_tokens=20)\n",
        "decoded_text = tokenizer.decode(output_ids[0])\n",
        "\n",
        "print(\"Input IDs\", input_ids[0])\n",
        "print(\"Output IDs\", output_ids)\n",
        "print(f\"Generated text: {decoded_text}\")"
      ]
    },
    {
      "cell_type": "markdown",
      "metadata": {
        "id": "aAAHnUdp-8Q1"
      },
      "source": [
        "**Beam Search**"
      ]
    },
    {
      "cell_type": "code",
      "execution_count": null,
      "metadata": {
        "id": "hpp7pS5O-8Q1",
        "outputId": "c9e84842-5e6c-4372-ee39-3faacae9ee67"
      },
      "outputs": [],
      "source": [
        "beam_output = model.generate(\n",
        "    input_ids,\n",
        "    num_beams=5,\n",
        "    max_new_tokens=30,\n",
        ")\n",
        "\n",
        "print(tokenizer.decode(beam_output[0]))"
      ]
    },
    {
      "cell_type": "markdown",
      "metadata": {
        "id": "EQ3Yv1M4-8Q2"
      },
      "source": [
        "**Beam search with repetition penalty**"
      ]
    },
    {
      "cell_type": "code",
      "execution_count": null,
      "metadata": {
        "id": "9_8PRF1Y-8Q2",
        "outputId": "33e1cde1-0754-4781-8acd-871ad573e48f"
      },
      "outputs": [],
      "source": [
        "beam_output = model.generate(\n",
        "    input_ids,\n",
        "    num_beams=5,\n",
        "    repetition_penalty=2.0,\n",
        "    max_new_tokens=38,\n",
        ")\n",
        "\n",
        "print(tokenizer.decode(beam_output[0]))"
      ]
    },
    {
      "cell_type": "markdown",
      "metadata": {
        "id": "r0VKCNvQ-8Q2"
      },
      "source": [
        "**Sampling**"
      ]
    },
    {
      "cell_type": "code",
      "execution_count": null,
      "metadata": {
        "id": "TIXO8zTZ-8Q2",
        "outputId": "5fa5f433-6b80-46de-9e3e-d030dce5f78c"
      },
      "outputs": [],
      "source": [
        "from transformers import set_seed\n",
        "\n",
        "# Setting the seed ensures we get the same results every time we run this code\n",
        "set_seed(70)\n",
        "\n",
        "sampling_output = model.generate(\n",
        "    input_ids,\n",
        "    do_sample=True,\n",
        "    max_new_tokens=34,\n",
        "    top_k=0,  # We'll come back to this parameter\n",
        ")\n",
        "\n",
        "print(tokenizer.decode(sampling_output[0]))"
      ]
    },
    {
      "cell_type": "markdown",
      "metadata": {
        "id": "k8cCSOfL-8Q3"
      },
      "source": [
        "**Sampling with different `temperature`s**"
      ]
    },
    {
      "cell_type": "code",
      "execution_count": null,
      "metadata": {
        "id": "3If19lAV-8Q3",
        "outputId": "f32719b8-dc37-4f63-ded1-df9d65dcf749"
      },
      "outputs": [],
      "source": [
        "sampling_output = model.generate(\n",
        "    input_ids,\n",
        "    do_sample=True,\n",
        "    temperature=0.4,\n",
        "    max_new_tokens=40,\n",
        "    top_k=0,\n",
        ")\n",
        "\n",
        "print(tokenizer.decode(sampling_output[0]))"
      ]
    },
    {
      "cell_type": "code",
      "execution_count": null,
      "metadata": {
        "id": "h4jMutKr-8Q3",
        "outputId": "73467a68-9604-4797-c358-20574512f6b5"
      },
      "outputs": [],
      "source": [
        "sampling_output = model.generate(\n",
        "    input_ids,\n",
        "    do_sample=True,\n",
        "    temperature=0.001,\n",
        "    max_new_tokens=40,\n",
        "    top_k=0,\n",
        ")\n",
        "\n",
        "print(tokenizer.decode(sampling_output[0]))"
      ]
    },
    {
      "cell_type": "code",
      "execution_count": null,
      "metadata": {
        "id": "tnbPXJSL-8Q3",
        "outputId": "68e4db6c-140d-4517-d31e-b1bcbf92c2e0"
      },
      "outputs": [],
      "source": [
        "sampling_output = model.generate(\n",
        "    input_ids,\n",
        "    do_sample=True,\n",
        "    temperature=3.0,\n",
        "    max_new_tokens=40,\n",
        "    top_k=0,\n",
        ")\n",
        "\n",
        "print(tokenizer.decode(sampling_output[0]))"
      ]
    },
    {
      "cell_type": "markdown",
      "metadata": {
        "id": "26lQ3kXP-8Q4"
      },
      "source": [
        "**Sampling with `top_k`**"
      ]
    },
    {
      "cell_type": "code",
      "execution_count": null,
      "metadata": {
        "id": "l40R-MO7-8Q4",
        "outputId": "99a9d4ba-052d-4198-f40e-6dd361b3c88a"
      },
      "outputs": [],
      "source": [
        "sampling_output = model.generate(\n",
        "    input_ids,\n",
        "    do_sample=True,\n",
        "    max_new_tokens=40,\n",
        "    top_k=10,\n",
        ")\n",
        "\n",
        "print(tokenizer.decode(sampling_output[0]))"
      ]
    },
    {
      "cell_type": "markdown",
      "metadata": {
        "id": "iaXe14Qn-8Q4"
      },
      "source": [
        "**Top-p sampling**"
      ]
    },
    {
      "cell_type": "code",
      "execution_count": null,
      "metadata": {
        "id": "hUF0ATNn-8Q4",
        "outputId": "e1b79677-b78f-49c1-99d4-7ec51bf43c4b"
      },
      "outputs": [],
      "source": [
        "sampling_output = model.generate(\n",
        "    input_ids,\n",
        "    do_sample=True,\n",
        "    max_new_tokens=40,\n",
        "    top_p=0.94,\n",
        ")\n",
        "\n",
        "print(tokenizer.decode(sampling_output[0]))"
      ]
    },
    {
      "cell_type": "markdown",
      "metadata": {
        "id": "1jQ_3TNH-8Q4"
      },
      "source": [
        "### Zero-shot Classification"
      ]
    },
    {
      "cell_type": "markdown",
      "metadata": {
        "id": "P9YtN4NR-8Q4"
      },
      "source": [
        "#### Book code"
      ]
    },
    {
      "cell_type": "code",
      "execution_count": null,
      "metadata": {
        "id": "BYigWFml-8Q4",
        "outputId": "3b875ff4-36ad-4b8a-d363-1e51d8758bb8"
      },
      "outputs": [],
      "source": [
        "# Check the token IDs for the words ' positive' and ' negative'\n",
        "# (note the space before the words)\n",
        "tokenizer.encode(\" positive\"), tokenizer.encode(\" negative\")"
      ]
    },
    {
      "cell_type": "code",
      "execution_count": null,
      "metadata": {
        "id": "SgmAz4K3-8Q5"
      },
      "outputs": [],
      "source": [
        "def score(review):\n",
        "    \"\"\"Predict whether it is positive or negative\n",
        "\n",
        "    This function predicts whether a review is positive or negative\n",
        "    using a bit of clever prompting. It looks at the logits for the\n",
        "    tokens ' positive' and ' negative', and returns the label\n",
        "    with the highest score.\n",
        "    \"\"\"\n",
        "    prompt = f\"\"\"Question: Is the following review positive or\n",
        "negative about the movie?\n",
        "Review: {review} Answer:\"\"\"\n",
        "\n",
        "    input_ids = tokenizer(prompt, return_tensors=\"pt\").input_ids  # <1>\n",
        "    final_logits = model(input_ids).logits[0, -1]  # <2>\n",
        "    if final_logits[6785] > final_logits[8225]:  # <3>\n",
        "        print(\"Positive\")\n",
        "    else:\n",
        "        print(\"Negative\")"
      ]
    },
    {
      "cell_type": "code",
      "execution_count": null,
      "metadata": {
        "id": "pBoJZtmv-8Q5",
        "outputId": "d9c903bd-0f22-4e7c-8ce6-a6055832b170"
      },
      "outputs": [],
      "source": [
        "score(\"This movie was terrible!\")"
      ]
    },
    {
      "cell_type": "code",
      "execution_count": null,
      "metadata": {
        "id": "syEhQvqY-8Q5",
        "outputId": "a41859a2-340a-48c1-da83-bc22ba1e3170"
      },
      "outputs": [],
      "source": [
        "score(\"That movie was great!\")"
      ]
    },
    {
      "cell_type": "code",
      "execution_count": null,
      "metadata": {
        "id": "gwf-WopS-8Q7",
        "outputId": "5f409686-c7ee-415a-b641-427b1fabbd75"
      },
      "outputs": [],
      "source": [
        "score(\"A complex yet wonderful film about the depravity of man\")  # A mistake"
      ]
    },
    {
      "cell_type": "markdown",
      "metadata": {
        "id": "BGv8Oy8--8Q7"
      },
      "source": [
        "#### Suplementary material (not in the book)"
      ]
    },
    {
      "cell_type": "markdown",
      "metadata": {
        "id": "OXJiYnB4-8Q_"
      },
      "source": [
        "This section shows how to use a pre-trained generative model to perform classification via zero-shot classification. We'll use a dataset of labeled reviews and measure the confusion matrix. A confusion matrix serves as a table summarizing a model's performance, depicting counts of true positive, true negative, false positive, and false negative predictions. Rows indicate actual (ground truth) classes, while columns indicate predicted classes. Analyzing this matrix provides insights into the model's strengths and weaknesses in distinguishing between specific classes."
      ]
    },
    {
      "cell_type": "markdown",
      "metadata": {
        "id": "GYgnDUG_-8Q_"
      },
      "source": [
        "Let's use the `Qwen/Qwen2-0.5B` model and its tokenizer."
      ]
    },
    {
      "cell_type": "code",
      "execution_count": null,
      "metadata": {
        "id": "3wxCxU5s-8RA"
      },
      "outputs": [],
      "source": [
        "from genaibook.core import get_device\n",
        "from transformers import AutoModelForCausalLM, AutoTokenizer\n",
        "\n",
        "device = get_device()\n",
        "tokenizer = AutoTokenizer.from_pretrained(\"Qwen/Qwen2-0.5B\")\n",
        "model = AutoModelForCausalLM.from_pretrained(\"Qwen/Qwen2-0.5B\").to(device)"
      ]
    },
    {
      "cell_type": "markdown",
      "metadata": {
        "id": "vtsJ4dGS-8RA"
      },
      "source": [
        "Then, we define our `score` function just as in the book, but with some key differences:\n",
        "\n",
        "* we use 1 (`positive`) and 0 (`negative`),\n",
        "* we receive a sample so we can use the `datasets` library. You can use this as a dictionary with the review being accessible with `sample[\"text\"]`,\n",
        "* we add a new column, `pred`, which contains the 0 or 1 from the model.\n",
        "* we add `truncation=True` to the `tokenizer` call. Truncation is needed as `score` will be called with a batch of samples, and we need to ensure that all samples have the same length. We'll explain in future chapters why this is needed, but for now, just remember that it's necessary when working with batches of samples."
      ]
    },
    {
      "cell_type": "code",
      "execution_count": null,
      "metadata": {
        "id": "UatsrFsw-8RA",
        "outputId": "be5b52dc-d983-412b-dc2d-4170eb6a133c"
      },
      "outputs": [],
      "source": [
        "tokenizer.encode(\" positive\"), tokenizer.encode(\" negative\")"
      ]
    },
    {
      "cell_type": "code",
      "execution_count": null,
      "metadata": {
        "id": "vRNzr80B-8RA"
      },
      "outputs": [],
      "source": [
        "def score(sample):\n",
        "    \"\"\"Given a review, predict whether it is positive or negative using a bit of clever prompting\"\"\"\n",
        "    prompt = f\"Question: Is the following review positive or negative about the movie?\\nReview: {sample['text']} Answer:\"\n",
        "    input_ids = tokenizer(\n",
        "        prompt, truncation=True, return_tensors=\"pt\"\n",
        "    ).input_ids.to(device)\n",
        "    final_logits = model(input_ids).logits[0, -1]\n",
        "    if final_logits[6785] > final_logits[8225]:\n",
        "        sample[\"pred\"] = 1\n",
        "    else:\n",
        "        sample[\"pred\"] = 0\n",
        "    return sample"
      ]
    },
    {
      "cell_type": "code",
      "execution_count": null,
      "metadata": {
        "id": "nthla9Mo-8RA",
        "outputId": "a5be91d6-2456-4434-a1d1-84fa5b2a6782"
      },
      "outputs": [],
      "source": [
        "score({\"text\": \"This movie was terrible!\"})"
      ]
    },
    {
      "cell_type": "markdown",
      "metadata": {
        "id": "mOot17Hh-8RA"
      },
      "source": [
        "Let's use the [IMDB](https://huggingface.co/datasets/imdb) dataset, which contains 25,000 rows of labeled reviews. We'll use the `datasets` library to load the dataset and load the `train` split."
      ]
    },
    {
      "cell_type": "code",
      "execution_count": null,
      "metadata": {
        "id": "oLFXT34u-8RA"
      },
      "outputs": [],
      "source": [
        "from datasets import load_dataset\n",
        "\n",
        "dataset = load_dataset(\"imdb\")[\"train\"]"
      ]
    },
    {
      "cell_type": "markdown",
      "metadata": {
        "id": "UNKSOWZ4-8RB"
      },
      "source": [
        "For fast iteration, we'll just use 1000 random samples from the dataset. We'll `shuffle` the dataset and then take the first 1000 samples."
      ]
    },
    {
      "cell_type": "code",
      "execution_count": null,
      "metadata": {
        "id": "GtH2NIV2-8RB"
      },
      "outputs": [],
      "source": [
        "shuffled_dataset = dataset.shuffle(seed=42)\n",
        "small_dataset = shuffled_dataset.select(range(1000))"
      ]
    },
    {
      "cell_type": "markdown",
      "metadata": {
        "id": "H-9_YdtW-8RB"
      },
      "source": [
        "Then, we can use the `score` function to predict the sentiment of the reviews and compare the predictions with the actual labels."
      ]
    },
    {
      "cell_type": "code",
      "execution_count": null,
      "metadata": {
        "colab": {
          "referenced_widgets": [
            "f1073d5f02114b809b3c202ea8915113"
          ]
        },
        "id": "_1mm_IYz-8RB",
        "outputId": "579fa973-e4a9-46dd-c53b-672c01d8a19d"
      },
      "outputs": [],
      "source": [
        "updated_dataset = small_dataset.map(score)\n",
        "updated_dataset"
      ]
    },
    {
      "cell_type": "markdown",
      "metadata": {
        "id": "Y5LMJHdW-8RB"
      },
      "source": [
        "We'll use the `evaluate` library to obtain the confusion matrix. A confusion matrix serves as a table summarizing a model's performance, depicing counts of true positive, true negatives, false positive, and false negative predictions. Rows indicate actual (label) classes, while columns indicate predicted classes. Analyzing this matrix provides insights into the model's strengths and weaknesses in distinguishing between classes. The fine-tune LLM chapter dives into this metric."
      ]
    },
    {
      "cell_type": "code",
      "execution_count": null,
      "metadata": {
        "id": "Hztz-R2--8RB",
        "outputId": "f375e17f-e268-4d6f-faed-6ae4e095485c"
      },
      "outputs": [],
      "source": [
        "import evaluate\n",
        "\n",
        "confusion_matrix = evaluate.load(\"confusion_matrix\")\n",
        "cm = confusion_matrix.compute(\n",
        "    references=updated_dataset[\"label\"],\n",
        "    predictions=updated_dataset[\"pred\"],\n",
        ")\n",
        "cm"
      ]
    },
    {
      "cell_type": "code",
      "execution_count": null,
      "metadata": {
        "id": "3wn4vW2H-8RC",
        "outputId": "e9d1b2f7-2458-41b1-d400-31ec7ecc7e20"
      },
      "outputs": [],
      "source": [
        "import matplotlib.pyplot as plt\n",
        "from sklearn.metrics import ConfusionMatrixDisplay\n",
        "\n",
        "fig, ax = plt.subplots(figsize=(6, 6))\n",
        "disp = ConfusionMatrixDisplay(\n",
        "    confusion_matrix=cm[\"confusion_matrix\"],\n",
        "    display_labels=[\"negative\", \"positive\"],\n",
        ")\n",
        "disp.plot(cmap=\"Blues\", values_format=\".2f\", ax=ax, colorbar=False)\n",
        "\n",
        "plt.title(\"Normalized confusion matrix\")\n",
        "plt.show()"
      ]
    },
    {
      "cell_type": "markdown",
      "metadata": {
        "id": "RkhmRDxD-8RC"
      },
      "source": [
        "What do we get out of these results?\n",
        "\n",
        "* The model does not perform amazingly well. There are many false negatives.\n",
        "* The model is very good identifying most negative reviews, but unfortunately marks many positive reviews as negative.\n",
        "\n",
        "Finally, we can also convert the dataset to a Pandas `DataFrame` and explore the data directly. Here is a starting point"
      ]
    },
    {
      "cell_type": "code",
      "execution_count": null,
      "metadata": {
        "id": "363pZ2wL-8RC",
        "outputId": "8b4a39f9-dcfd-4c05-f3fd-e7d238d7bdc6"
      },
      "outputs": [],
      "source": [
        "df = updated_dataset.to_pandas()\n",
        "df.head()"
      ]
    },
    {
      "cell_type": "markdown",
      "metadata": {
        "id": "_NKoT01p-8RC"
      },
      "source": [
        "**Now it's your turn**. Experiment with tweaking the prompt to improve the model performance. What's the best confusion matrix you can achieve? What if you try another model?"
      ]
    },
    {
      "cell_type": "markdown",
      "metadata": {
        "id": "wBIvKdVX-8RD"
      },
      "source": [
        "### Few-Shot Generation"
      ]
    },
    {
      "cell_type": "code",
      "execution_count": null,
      "metadata": {
        "id": "b80A-3H_-8RD"
      },
      "outputs": [],
      "source": [
        "# We load the model in CPU again for this section for simplicity\n",
        "# but feel free to keep in GPU if you prefer.\n",
        "# Note: you need to move all the data to the device as well.\n",
        "model = AutoModelForCausalLM.from_pretrained(\"Qwen/Qwen2-0.5B\")"
      ]
    },
    {
      "cell_type": "code",
      "execution_count": null,
      "metadata": {
        "id": "wvPxVSwP-8RD",
        "outputId": "852753ac-229f-4a74-caee-214646bb64bc"
      },
      "outputs": [],
      "source": [
        "prompt = \"\"\"\\\n",
        "Translate English to Spanish:\n",
        "\n",
        "English: I do not speak Spanish.\n",
        "Spanish: No hablo español.\n",
        "\n",
        "English: See you later!\n",
        "Spanish: ¡Hasta luego!\n",
        "\n",
        "English: Where is a good restaurant?\n",
        "Spanish: ¿Dónde hay un buen restaurante?\n",
        "\n",
        "English: What rooms do you have available?\n",
        "Spanish: ¿Qué habitaciones tiene disponibles?\n",
        "\n",
        "English: I like soccer\n",
        "Spanish:\"\"\"\n",
        "inputs = tokenizer(prompt, return_tensors=\"pt\").input_ids\n",
        "output = model.generate(\n",
        "    inputs,\n",
        "    max_new_tokens=10,\n",
        ")\n",
        "\n",
        "print(tokenizer.decode(output[0]))"
      ]
    },
    {
      "cell_type": "markdown",
      "metadata": {
        "id": "nxvgVTzd-8RD"
      },
      "source": [
        "## Transformer Models Genealogy"
      ]
    },
    {
      "cell_type": "markdown",
      "metadata": {
        "id": "CgPpdIBn-8RE"
      },
      "source": [
        "### Encoder-only Models"
      ]
    },
    {
      "cell_type": "code",
      "execution_count": null,
      "metadata": {
        "colab": {
          "referenced_widgets": [
            "2fb89256a9f0440aa3d514877a30b115"
          ]
        },
        "id": "z1m1-SiA-8RE",
        "outputId": "70ceea6f-56b2-4047-c216-d1078abf744d"
      },
      "outputs": [],
      "source": [
        "from transformers import pipeline\n",
        "\n",
        "fill_masker = pipeline(\"fill-mask\", model=\"bert-base-uncased\")\n",
        "fill_masker(\"The [MASK] is made of milk.\")"
      ]
    },
    {
      "cell_type": "markdown",
      "metadata": {
        "id": "L_Nkx1A0-8RE"
      },
      "source": [
        "## The Power of Pre-training"
      ]
    },
    {
      "cell_type": "markdown",
      "metadata": {
        "id": "98v-S9gH-8RE"
      },
      "source": [
        "### The key Insights of Transformers\n"
      ]
    },
    {
      "cell_type": "code",
      "execution_count": null,
      "metadata": {
        "id": "e-OjQdz2-8RE",
        "outputId": "0f9a20c6-52e6-42ea-cc9e-12d7391b0293"
      },
      "outputs": [],
      "source": [
        "from transformers import pipeline\n",
        "\n",
        "classifier = pipeline(\n",
        "    \"text-classification\",\n",
        "    model=\"distilbert-base-uncased-finetuned-sst-2-english\",\n",
        ")\n",
        "classifier(\"This movie is disgustingly good !\")"
      ]
    },
    {
      "cell_type": "markdown",
      "metadata": {
        "id": "TF0f4C5d-8RF"
      },
      "source": [
        "### Limitations\n"
      ]
    },
    {
      "cell_type": "code",
      "execution_count": null,
      "metadata": {
        "id": "Y7ZkCbcZ-8RF",
        "outputId": "95ca6d3e-7c5c-419f-e682-8c6351e3390c"
      },
      "outputs": [],
      "source": [
        "unmasker = pipeline(\"fill-mask\", model=\"bert-base-uncased\")\n",
        "result = unmasker(\"This man works as a [MASK] during summer.\")\n",
        "print([r[\"token_str\"] for r in result])\n",
        "\n",
        "result = unmasker(\"This woman works as a [MASK] during summer.\")\n",
        "print([r[\"token_str\"] for r in result])"
      ]
    },
    {
      "cell_type": "markdown",
      "metadata": {
        "id": "JKbjiBkR-8RF"
      },
      "source": [
        "## Beyond Text"
      ]
    },
    {
      "cell_type": "code",
      "execution_count": null,
      "metadata": {
        "id": "FQDFEDMV-8RG",
        "outputId": "af18b356-83d8-4542-a920-953a43764cf6"
      },
      "outputs": [],
      "source": [
        "import requests\n",
        "from PIL import Image\n",
        "\n",
        "from genaibook.core import SampleURL\n",
        "\n",
        "# Download an image and load it with the PIL library\n",
        "url = SampleURL.CatExample\n",
        "image = Image.open(requests.get(url, stream=True).raw)\n",
        "image"
      ]
    },
    {
      "cell_type": "code",
      "execution_count": null,
      "metadata": {
        "id": "RjH0Aq7L-8RG",
        "outputId": "6d259f13-526b-4676-9b79-21f3a9e2ef88"
      },
      "outputs": [],
      "source": [
        "pipe = pipeline(\n",
        "    \"zero-shot-image-classification\", model=\"openai/clip-vit-base-patch32\"\n",
        ")\n",
        "labels = [\"cat\", \"dog\", \"zebra\"]\n",
        "pipe(image, candidate_labels=labels)\n"
      ]
    },
    {
      "cell_type": "markdown",
      "metadata": {
        "id": "BRq-0_zp-8RG"
      },
      "source": []
    },
    {
      "cell_type": "markdown",
      "metadata": {
        "id": "I1YWS-fV-8RG"
      },
      "source": [
        "## Solutions\n",
        "\n",
        "A big part of learning is putting your knowledge into practice. We strongly suggest not looking at the answers before taking a serious stab at it. Scroll down for the answers."
      ]
    },
    {
      "cell_type": "code",
      "execution_count": null,
      "metadata": {
        "id": "nxZXI00f-8RH"
      },
      "outputs": [],
      "source": []
    },
    {
      "cell_type": "code",
      "execution_count": null,
      "metadata": {
        "id": "N4idb07V-8RH"
      },
      "outputs": [],
      "source": []
    },
    {
      "cell_type": "code",
      "execution_count": null,
      "metadata": {
        "id": "Jrhh3UAV-8RH"
      },
      "outputs": [],
      "source": []
    },
    {
      "cell_type": "code",
      "execution_count": null,
      "metadata": {
        "id": "kdKwE4bK-8RH"
      },
      "outputs": [],
      "source": []
    },
    {
      "cell_type": "code",
      "execution_count": null,
      "metadata": {
        "id": "qekD0-pf-8RH"
      },
      "outputs": [],
      "source": []
    },
    {
      "cell_type": "code",
      "execution_count": null,
      "metadata": {
        "id": "LhGIX_MJ-8RH"
      },
      "outputs": [],
      "source": []
    },
    {
      "cell_type": "code",
      "execution_count": null,
      "metadata": {
        "id": "5u44SZWX-8RH"
      },
      "outputs": [],
      "source": []
    },
    {
      "cell_type": "code",
      "execution_count": null,
      "metadata": {
        "id": "nSSCADtS-8RH"
      },
      "outputs": [],
      "source": []
    },
    {
      "cell_type": "markdown",
      "metadata": {
        "id": "iE5Q-xCT-8RH"
      },
      "source": [
        "### Project Time: Using LMs to Generate Text\n",
        "\n",
        "This is the solution for the project. Here we'll implement a `generate` function which supports sampling, `top_k`, and greedy search."
      ]
    },
    {
      "cell_type": "code",
      "execution_count": null,
      "metadata": {
        "id": "SDDssYqv-8RH"
      },
      "outputs": [],
      "source": [
        "from transformers import AutoTokenizer, AutoModelForCausalLM\n",
        "\n",
        "tokenizer = AutoTokenizer.from_pretrained(\"gpt2\")\n",
        "gpt2 = AutoModelForCausalLM.from_pretrained(\"gpt2\")"
      ]
    },
    {
      "cell_type": "code",
      "execution_count": null,
      "metadata": {
        "id": "pM6EPwrR-8RI"
      },
      "outputs": [],
      "source": [
        "import torch.nn.functional as F\n",
        "\n",
        "\n",
        "def generate(\n",
        "    model, tokenizer, input_ids, max_length=50, do_sample=False, top_k=0\n",
        "):\n",
        "    \"\"\"Generate a sequence that starts with `input_ids` without using model.generate().\n",
        "\n",
        "    Args:\n",
        "        model (transformers.PreTrainedModel): The model to use for generation.\n",
        "        tokenizer (transformers.PreTrainedTokenizer): The tokenizer to use for generation.\n",
        "        input_ids (torch.Tensor): The input IDs\n",
        "        max_length (int, optional): The maximum length of the sequence. Defaults to 50.\n",
        "        do_sample (bool, optional): Whether to use sampling. Defaults to False.\n",
        "        top_k (int, optional): The number of tokens to sample from. Defaults to 0.\n",
        "    \"\"\"\n",
        "    current_length = input_ids.size(1)  # Current sequence length\n",
        "\n",
        "    for _ in range(max_length - current_length):\n",
        "        # Pass the current sequence through the model\n",
        "        outputs = model(input_ids)\n",
        "\n",
        "        # Get logits for the last token in the output\n",
        "        next_token_logits = outputs.logits[:, -1, :]\n",
        "\n",
        "        if do_sample:\n",
        "            if top_k > 0:\n",
        "                # Apply Top-K filtering\n",
        "                # Get the indices of the top_k logits\n",
        "                top_k_logits, _ = torch.topk(next_token_logits, top_k)\n",
        "\n",
        "                # Get the smallest token from the top_k logits\n",
        "                min_top_k_value = top_k_logits[:, -1].unsqueeze(-1)\n",
        "\n",
        "                # Set values smaller than the smallest top_k value to -infinity (probability 0)\n",
        "                next_token_logits = torch.where(\n",
        "                    next_token_logits < min_top_k_value,\n",
        "                    torch.tensor(float(\"-inf\")),\n",
        "                    next_token_logits,\n",
        "                )\n",
        "\n",
        "            # Apply softmax to convert logits to probabilities for sampling\n",
        "            probs = F.softmax(next_token_logits, dim=-1)\n",
        "            # Sample the next token from the distribution probability\n",
        "            next_token_id = torch.multinomial(probs, num_samples=1)\n",
        "        else:\n",
        "            # Greedy decoding: choose the token with highest probability\n",
        "            next_token_id = torch.argmax(\n",
        "                next_token_logits, dim=-1, keepdim=True\n",
        "            )\n",
        "\n",
        "        # Append predicted token to the input sequence\n",
        "        input_ids = torch.cat([input_ids, next_token_id], dim=-1)\n",
        "\n",
        "        # If the end of sequence token is generated, stop\n",
        "        if next_token_id == tokenizer.eos_token_id:\n",
        "            break\n",
        "    return tokenizer.decode(input_ids.squeeze(), skip_special_tokens=True)"
      ]
    },
    {
      "cell_type": "code",
      "execution_count": null,
      "metadata": {
        "id": "76Y1R4IU-8RI"
      },
      "outputs": [],
      "source": [
        "input_ids = tokenizer(\"It was a dark and stormy\", return_tensors=\"pt\").input_ids"
      ]
    },
    {
      "cell_type": "markdown",
      "metadata": {
        "id": "tMkLLHvU-8RI"
      },
      "source": [
        "Let's first try greedy decoding. As it's deterministic, this should give you the same content as in Chapter 2, which was\n",
        "\n",
        "> It was a dark and stormy night. The wind was blowing, and the clouds were falling. The wind was blowing, and the"
      ]
    },
    {
      "cell_type": "code",
      "execution_count": null,
      "metadata": {
        "id": "BVLQry4k-8RI",
        "outputId": "fe67c5c7-eb3c-483b-b6e4-04fe54c710d3"
      },
      "outputs": [],
      "source": [
        "generate(gpt2, tokenizer, input_ids, do_sample=False)"
      ]
    },
    {
      "cell_type": "markdown",
      "metadata": {
        "id": "vA1oaIi9-8RI"
      },
      "source": [
        "Let's now try sampling with `top_k`"
      ]
    },
    {
      "cell_type": "code",
      "execution_count": null,
      "metadata": {
        "id": "pGksPEiD-8RI",
        "outputId": "46fd2c65-da20-4cfc-f475-fdbe03dc33a0"
      },
      "outputs": [],
      "source": [
        "generate(gpt2, tokenizer, input_ids, do_sample=True, top_k=10)"
      ]
    },
    {
      "cell_type": "markdown",
      "metadata": {
        "id": "CYCD__yr-8RI"
      },
      "source": [
        "### Exercises\n",
        "\n",
        "**1. What's the role of the attention mechanism in text generation?**\n",
        "\n",
        "The attention mechanism in text generation allows the model to focus on different parts of the input sequence when producing each token in the output sequence. It helps the model capture long-range dependencies and relationships between words.\n",
        "\n",
        "\n",
        "**2. In which cases would a character-based tokenizer be preferred?**\n",
        "\n",
        "A character-based tokenizer might be preferred in cases where the language involves specific characters, symbols, or emojis that carry meaning. For example, in Chinese, each character carries more information than a character in a Latin language.\n",
        "\n",
        "\n",
        "**3. What happens if you use a tokenizer different from the one used with the model?**\n",
        "\n",
        "Using a different tokenizer can cause a tokenizer mismatch, leading to inconsistencies in tokenization. This misalignment can result in unexpected or incorrect model outputs.\n",
        "\n",
        "**4. What's the risk of using `no_repeat_ngram_size` when doing generation? (Hint: Think of city names.)**\n",
        "\n",
        "If you use a `no_repeat_ngram_size=3`, the \"New York City\" string will only be generated once. If you're using a generative model to generate a story in NYC, using this penalty will severily hurt it!\n",
        "\n",
        "**5. What would happen if you combine Beam-search and sampling?**\n",
        "\n",
        "With beam search, we maintain the `k` best sequences at each timestep. Instead of determinisitcally choosing the top `k` sequences based on the score, we use a probabilistic element and sample the next token from the probability distribution.\n",
        "\n",
        "This can lead to increased diversity (no repetitive outputs of Beam-search), improved quality (no unpredictable outputs of sampling), and a balance between the two. However, it can require more computational resources due to the increased number of sequences to maintain and sample from.\n",
        "\n",
        "**6. Imagine you're using a LLM that generates code in a code editor by doing sampling. What would be more convenient? A low temperature or a high temperature?**\n",
        "\n",
        "In code generation, a low temperature is more convenient as it generates more deterministic and conservative code, adhering to common patterns and reducing the risk of errors. A high temperature would introduce more randomness and could result in unconventional or less reliable code. Therefore, a low temperature is typically preferred.\n",
        "\n",
        "\n",
        "**7. What’s the importance of fine-tuning, and why is it different from zero-shot generation?**\n",
        "\n",
        "Fine-tuning is crucial for adapting a pre-trained language model to specific tasks or domains. It allows the model to learn task-specific nuances and improves performance on targeted applications. This differs from zero-shot generation, where the model is used without task-specific training.\n",
        "\n",
        "\n",
        "**8. Explain the differences and applications of encoder, decoder, and encoderdecoder transformers.**\n",
        "\n",
        "* **Encoder**: Specialized in processing input sequences and extracting meaningful representations. It's commonly used for tasks like classification, sentiment analysis, and document embeddings. Examples include BERT and RoBERTa.\n",
        "* **Decoder**: Specialized in generating output sequences based on given input. It's often used for text generation tasks. Examples include GPT-2 and T5.\n",
        "* **Encoder-Decoder**: Combines both an encoder and a decoder. The encoder processes the input sequence into a set of representations, which the decoder then uses to generate an output sequence. It's ideal for sequence-to-sequence tasks such as machine translation, text summarization, and question answering. Examples include BART and T5."
      ]
    },
    {
      "cell_type": "markdown",
      "metadata": {
        "id": "HrXim4zS-8RJ"
      },
      "source": [
        "### Challenges\n",
        "\n",
        "**9. Summarization. Use a summarization model (you can do `pipeline(\"summarization)`) to generate summaries of a paragraph. How does it compare with the results of using zero-shot? Can it be beaten by providing few-shot examples?**"
      ]
    },
    {
      "cell_type": "markdown",
      "metadata": {
        "id": "34JYXL38-8RJ"
      },
      "source": [
        "Let's first solve this using a summarization model. We'll use a default model, but note that it's a small model from 2020. The results might not be as good as the latest or larger models."
      ]
    },
    {
      "cell_type": "code",
      "execution_count": null,
      "metadata": {
        "colab": {
          "referenced_widgets": [
            "28802ea81c3840d9906cd7aa5ff65043",
            "7c8e8b6722d74210b3cebba8466913e2",
            "c37144f6fd15477b963c1389656f53ab",
            "39cd7e449f7c40cf973926c0b5e4fea2",
            "003a4eb4ac4d48f6b022f611cc0f782e",
            "434bef96d43f4d34aff526ba2305a4d1",
            "a6b25af8de99426a87fcc6d692c8d2d2",
            "593eb705281a4b59a2a8ae9b56c2cf61",
            "cc5d2439ec5c40a1af1a2993b8deacbf",
            "99354c97564240bfa0bb43fe6bb48e49",
            "5966b211ffa84cf5999b7adcb0be7d73",
            "0f7cd2f5edba49e1aaa85c16c1099081",
            "d6d2d9475d424bd896aa1fe01f18783b",
            "013b193851b7436ca4ee18cc0e7b72b2",
            "7d8464c3c4fc44f7849ac91ef4e9fa35",
            "63603f985fb64a2c998850e34643acee",
            "dd1dbd45fb224dd8a910d70a1769c659",
            "ac7585589de7404d931a3f91fa49321d",
            "5ba09a4b91ef402187aef8c355eb4ee6",
            "05a3c344c3e24b2fbd9716d43eae60ef",
            "cfd3eb59e43641739dbffabc3da8b816",
            "bc7de38cc28949a5aae41cdec504443f",
            "5806ddad8a814a8d9fd542b8858cec58",
            "c19c9bf4e9834ba4a6c5b1d73deb2fcf",
            "3428ed686df040018b3404f1a3e87604",
            "cbf8d955d2d745948888b337e7705238",
            "878425613f9b4dc5b89508243efd684c",
            "499691677e644394a50ec6cf1ec0aec0",
            "3c8d495617284397b5fb928301c65396",
            "b783baf41d6e44e8991856756f746a6b",
            "2e3d4f812abc434dbd38faeedd2f91be",
            "8c3275764be748c6a931d3af2fbe67a8",
            "77d2b20ad45f4297a54595a2feb02197",
            "7437c3ff6c2c4cf7a857ce7bf49ba3c2",
            "5f82e9c6f33f4cc283f84e381a0fdeae",
            "1c986b6574ff43929777dcafcdd1cf04",
            "a95b7b52e53c4ce2924d7ed4e497e644",
            "99e5ded2213943bb9a30c3547dfeabbd",
            "1482513230d04f49a5026858722b55c6",
            "95b1ceddeb8545098701b8e7a6bcf175",
            "fe3d7a3505804b909fbc17936acbfcd3",
            "75200e01c201471fb734cc34676f4235",
            "eb39e3c285bc4ebe8ca5b6073ff5d082",
            "691b93a9143a472ebe855c89b03d3c38",
            "8898738cb0654dcfb9c9a05ac0736e06",
            "2137cfcda6134a218d61503f70591d50",
            "2a54d004ccba493ebc26b19c0f1631cd",
            "51130de564c9445ba9762e8579a91a62",
            "144b84c8bf1c4678979ea142221174d4",
            "7032d25052f64d57adf9ce51c6de59b5",
            "97f1211540614b8a9ea377efedd2f300",
            "b8531e80c6cc4a40935d450e4854bacb",
            "5b3e01afa15842c5884bb87a7ab5748c",
            "33f032de450146a29131655ed7eb8cde",
            "3b794048c52f4ad8bc4462d0b1f29129"
          ]
        },
        "id": "eONrAHGJ-8RJ",
        "outputId": "4ce70364-2ac5-4a2f-cf41-ea4d3aa0546d"
      },
      "outputs": [],
      "source": [
        "from transformers import pipeline\n",
        "\n",
        "summarizer = pipeline(\"summarization\")"
      ]
    },
    {
      "cell_type": "code",
      "execution_count": null,
      "metadata": {
        "id": "pc-5acj2-8RJ"
      },
      "outputs": [],
      "source": [
        "long_text = \"\"\"\n",
        "    America has changed dramatically during recent years. Not only has the number of\n",
        "    graduates in traditional engineering disciplines such as mechanical, civil,\n",
        "    electrical, chemical, and aeronautical engineering declined, but in most of\n",
        "    the premier American universities engineering curricula now concentrate on\n",
        "    and encourage largely the study of engineering science. As a result, there\n",
        "    are declining offerings in engineering subjects dealing with infrastructure,\n",
        "    the environment, and related issues, and greater concentration on high\n",
        "    technology subjects, largely supporting increasingly complex scientific\n",
        "    developments. While the latter is important, it should not be at the expense\n",
        "    of more traditional engineering.\n",
        "\n",
        "    Rapidly developing economies such as China and India, as well as other\n",
        "    industrial countries in Europe and Asia, continue to encourage and advance\n",
        "    the teaching of engineering. Both China and India, respectively, graduate\n",
        "    six and eight times as many traditional engineers as does the United States.\n",
        "    Other industrial countries at minimum maintain their output, while America\n",
        "    suffers an increasingly serious decline in the number of engineering graduates\n",
        "    and a lack of well-educated engineers.\n",
        "\"\"\""
      ]
    },
    {
      "cell_type": "code",
      "execution_count": null,
      "metadata": {
        "id": "fN0hc5jZ-8RJ",
        "outputId": "57df48b5-9084-425f-c6a8-b810062d4add"
      },
      "outputs": [],
      "source": [
        "summarizer(long_text)"
      ]
    },
    {
      "cell_type": "markdown",
      "metadata": {
        "id": "ZYBSE_su-8RK"
      },
      "source": [
        "Let's now try with a text generation model."
      ]
    },
    {
      "cell_type": "code",
      "execution_count": null,
      "metadata": {
        "id": "NFMmnalW-8RK"
      },
      "outputs": [],
      "source": [
        "generator = pipeline(\"text-generation\", model=\"EleutherAI/gpt-neo-1.3B\")"
      ]
    },
    {
      "cell_type": "code",
      "execution_count": null,
      "metadata": {
        "id": "-HSMB1JS-8RK"
      },
      "outputs": [],
      "source": [
        "def summarize_with_zero_shot(long_text):\n",
        "    zero_shot = generator(\n",
        "        f\"{long_text}.\\\\n Summary:\\\\n\",\n",
        "        return_full_text=False,\n",
        "        max_length=350,\n",
        "    )\n",
        "\n",
        "    return zero_shot"
      ]
    },
    {
      "cell_type": "code",
      "execution_count": null,
      "metadata": {
        "id": "lBd4gzrN-8RK",
        "outputId": "cf2dfd56-e78d-48b2-9eb1-32cfdf51a587"
      },
      "outputs": [],
      "source": [
        "summarize_with_zero_shot(long_text)"
      ]
    },
    {
      "cell_type": "markdown",
      "metadata": {
        "id": "dJrzh7Wf-8RK"
      },
      "source": [
        "Can you achieve better results by improving the prompt or adding some examples to it?"
      ]
    },
    {
      "cell_type": "markdown",
      "metadata": {
        "id": "LYfPQpUX-8RK"
      },
      "source": [
        "**10. Sentiment Analysis. In the zero-shot supplementary material, we calculate some metrics using zero-shot classification. Explore using the `distilbert-base-uncased-finetuned-sst-2-english` encoder model that can do sentiment analysis. What results do you get?**\n",
        "\n",
        "Let's first recall how to use this model. We can either use the `pipeline(\"text-classification\")` approach, or load the model directly with `AutoModel`, which would require handling the tokenization ourselves. We'll want to use `truncation` just as in the zero-shot example above. We begin loading the model and tokenizer. Note that we use `AutoModelForSequenceClassification` to make sure to load the classification layer as well."
      ]
    },
    {
      "cell_type": "code",
      "execution_count": null,
      "metadata": {
        "id": "fy5C2RdR-8RK"
      },
      "outputs": [],
      "source": [
        "from transformers import AutoModelForSequenceClassification, AutoTokenizer\n",
        "\n",
        "checkpoint = \"distilbert-base-uncased-finetuned-sst-2-english\"\n",
        "tokenizer = AutoTokenizer.from_pretrained(checkpoint)\n",
        "model = AutoModelForSequenceClassification.from_pretrained(checkpoint)"
      ]
    },
    {
      "cell_type": "markdown",
      "metadata": {
        "id": "VEowpN4W-8RK"
      },
      "source": [
        "Let's get the output with a specific example."
      ]
    },
    {
      "cell_type": "code",
      "execution_count": null,
      "metadata": {
        "id": "3EtWxVRK-8RK",
        "outputId": "80ab681b-53d8-4270-b5cc-1d04c8f02cb8"
      },
      "outputs": [],
      "source": [
        "input_ids = tokenizer(\n",
        "    \"This movie was terrible!\", truncation=True, return_tensors=\"pt\"\n",
        ").input_ids\n",
        "classifier_output = model(input_ids)\n",
        "classifier_output"
      ]
    },
    {
      "cell_type": "markdown",
      "metadata": {
        "id": "ozI9gjbL-8RL"
      },
      "source": [
        "The output is two logits, which tell us that the first class is more likely than the second. Programmatically, we can do an `argmax` over the `logits` tensor to get the index of the highest value."
      ]
    },
    {
      "cell_type": "code",
      "execution_count": null,
      "metadata": {
        "id": "wnOrzZO_-8RL",
        "outputId": "3447b908-9d64-4ba7-d40b-6b9f0fc6649b"
      },
      "outputs": [],
      "source": [
        "predicted_class_id = classifier_output.logits.argmax().item()\n",
        "predicted_class_id"
      ]
    },
    {
      "cell_type": "markdown",
      "metadata": {
        "id": "6r-vnbUt-8RL"
      },
      "source": [
        "To which class does the 0 correspond to? Using the model configuration `id2label`, we can obtain the corresponding class"
      ]
    },
    {
      "cell_type": "code",
      "execution_count": null,
      "metadata": {
        "id": "EM7cw5Rs-8RL",
        "outputId": "a3b94b35-55cc-4fe2-a704-4a3d42ac2112"
      },
      "outputs": [],
      "source": [
        "model.config.id2label"
      ]
    },
    {
      "cell_type": "markdown",
      "metadata": {
        "id": "jSI96Qvi-8RL"
      },
      "source": [
        "And using the model configuration, we can get which label correspond to that id."
      ]
    },
    {
      "cell_type": "code",
      "execution_count": null,
      "metadata": {
        "id": "J_GmuCUm-8RL",
        "outputId": "9f1783cc-aae0-4831-e2a3-1abbd6b3a781"
      },
      "outputs": [],
      "source": [
        "model.config.id2label[predicted_class_id]"
      ]
    },
    {
      "cell_type": "markdown",
      "metadata": {
        "id": "-MxQndKI-8RL"
      },
      "source": [
        "Let's wrap this in a function"
      ]
    },
    {
      "cell_type": "code",
      "execution_count": null,
      "metadata": {
        "id": "3YHH-yta-8RM"
      },
      "outputs": [],
      "source": [
        "def score_with_classifier(sample):\n",
        "    \"\"\"Given a review, predict whether it is positive or negative\"\"\"\n",
        "    input_ids = tokenizer(\n",
        "        sample[\"text\"], truncation=True, return_tensors=\"pt\"\n",
        "    ).input_ids\n",
        "    classifier_output = model(input_ids)\n",
        "    sample[\"pred\"] = classifier_output.logits.argmax().item()\n",
        "\n",
        "    return sample"
      ]
    },
    {
      "cell_type": "code",
      "execution_count": null,
      "metadata": {
        "id": "7DGtfk54-8RM",
        "outputId": "49b506a9-93ce-4b19-8bbf-d0e206149d9b"
      },
      "outputs": [],
      "source": [
        "score_with_classifier({\"text\": \"This movie was terrible!\"})"
      ]
    },
    {
      "cell_type": "code",
      "execution_count": null,
      "metadata": {
        "colab": {
          "referenced_widgets": [
            "3f31d723e2c0425596bd4bcc8296e91c"
          ]
        },
        "id": "UKNO7wNt-8RM",
        "outputId": "71b1e49b-f91d-4915-d64d-d69561ba5aa4"
      },
      "outputs": [],
      "source": [
        "updated_dataset = small_dataset.map(score_with_classifier)\n",
        "updated_dataset"
      ]
    },
    {
      "cell_type": "code",
      "execution_count": null,
      "metadata": {
        "id": "D23AuCq--8RM",
        "outputId": "14d541c0-d696-4b51-93bd-fd37f90e823b"
      },
      "outputs": [],
      "source": [
        "cm = confusion_matrix.compute(\n",
        "    references=updated_dataset[\"label\"], predictions=updated_dataset[\"pred\"]\n",
        ")\n",
        "cm"
      ]
    },
    {
      "cell_type": "code",
      "execution_count": null,
      "metadata": {
        "id": "ict7CyHI-8RM",
        "outputId": "2dd950bb-312b-46bd-9626-7162b9b0e496"
      },
      "outputs": [],
      "source": [
        "fig, ax = plt.subplots(figsize=(6, 6))\n",
        "disp = ConfusionMatrixDisplay(\n",
        "    confusion_matrix=cm[\"confusion_matrix\"],\n",
        "    display_labels=[\"negative\", \"positive\"],\n",
        ")\n",
        "disp.plot(cmap=\"Blues\", values_format=\".2f\", ax=ax, colorbar=False)\n",
        "\n",
        "plt.title(\"Normalized confusion matrix\")\n",
        "plt.show()"
      ]
    },
    {
      "cell_type": "markdown",
      "metadata": {
        "id": "hDf4HPw3-8RM"
      },
      "source": [
        "Impressive! This sentiment analysis classifier performs much better than the zero-shot setup, specially for positive reviews which were being misclassified as negative."
      ]
    },
    {
      "cell_type": "markdown",
      "metadata": {
        "id": "qpXQcGda-8RN"
      },
      "source": [
        "**11. Semantic Search. Let's build a FAQ system! ! Sentence transformers are powerful models that can measure semantic text similarity. While the transformer encoder usually outputs an embedding for each token, sentence transformers output an embedding for the whole input text, allowing us to determine if two texts have similar meanings based on their similarity score. Let’s look at a simple example using the `sentence_transformers` library.**"
      ]
    },
    {
      "cell_type": "markdown",
      "metadata": {
        "id": "pkIsfaHU-8RN"
      },
      "source": [
        "This is the example provided in the book. We first load the `all-MiniLM-L6-v2` model from the Hub. We then use it to compute the embedding of two sentences using the `encode` method. Each is a tensor (vector) of 384 values. We finally compute the cosine similarity to determine how close both tensors are."
      ]
    },
    {
      "cell_type": "code",
      "execution_count": null,
      "metadata": {
        "id": "L4DtdkKn-8RN",
        "outputId": "4e0da1fb-ca07-4337-9550-fe08adba861a"
      },
      "outputs": [],
      "source": [
        "from sentence_transformers import SentenceTransformer, util\n",
        "\n",
        "sentences = [\"I'm happy\", \"I'm full of happiness\"]\n",
        "model = SentenceTransformer(\"sentence-transformers/all-MiniLM-L6-v2\")\n",
        "\n",
        "# Compute embedding for both lists\n",
        "embedding_1 = model.encode(sentences[0], convert_to_tensor=True)\n",
        "embedding_2 = model.encode(sentences[1], convert_to_tensor=True)\n",
        "\n",
        "util.pytorch_cos_sim(embedding_1, embedding_2)"
      ]
    },
    {
      "cell_type": "markdown",
      "metadata": {
        "id": "1xXXFEh6-8RN"
      },
      "source": [
        "We'll write a dictionary of 5 questions and answers based on Medicare FAQ website."
      ]
    },
    {
      "cell_type": "code",
      "execution_count": null,
      "metadata": {
        "id": "z-QiA4gm-8RN"
      },
      "outputs": [],
      "source": [
        "# Data from https://faq.ssa.gov/en-US/topic/?id=CAT-01092\n",
        "\n",
        "faq = {\n",
        "    \"How do I get a replacement Medicare card?\": \"If your Medicare card was lost, stolen, or destroyed, you can request a replacement online at Medicare.gov.\",\n",
        "    \"How do I sign up for Medicare?\": \"If you already get Social Security benefits, you do not need to sign up for Medicare. We will automatically enroll you in Original Medicare (Part A and Part B) when you become eligible. We will mail you the information a few months before you become eligible.\",\n",
        "    \"What are Medicare late enrollment penalties?\": \"In most cases, if you don’t sign up for Medicare when you’re first eligible, you may have to pay a higher monthly premium. Find more information at https://faq.ssa.gov/en-us/Topic/article/KA-02995\",\n",
        "    \"Will my Medicare premiums be higher because of my higher income?\": \"Some people with higher income may pay a larger percentage of their monthly Medicare Part B and prescription drug costs based on their income. We call the additional amount the income-related monthly adjustment amount.\",\n",
        "    \"What is Medicare and who can get it?\": \"Medicare is a health insurance program for people age 65 or older. Some younger people are eligible for Medicare including people with disabilities, permanent kidney failure and amyotrophic lateral sclerosis (Lou Gehrig’s disease or ALS). Medicare helps with the cost of health care, but it does not cover all medical expenses or the cost of most long-term care.\",\n",
        "}"
      ]
    },
    {
      "cell_type": "markdown",
      "metadata": {
        "id": "CaNCW0oq-8RN"
      },
      "source": [
        "We can use the `encode` method to compute the embedding of the 5 questions."
      ]
    },
    {
      "cell_type": "code",
      "execution_count": null,
      "metadata": {
        "id": "ZVGqLI8m-8RN",
        "outputId": "0607aff1-9f43-4036-d96c-22398abc3d58"
      },
      "outputs": [],
      "source": [
        "corpus_embeddings = model.encode(list(faq.values()), convert_to_tensor=True)\n",
        "print(corpus_embeddings.shape)"
      ]
    },
    {
      "cell_type": "markdown",
      "metadata": {
        "id": "o4HAnMFl-8RO"
      },
      "source": [
        "Now, in a production setup, a user would input a question. We can compute its embedding as well."
      ]
    },
    {
      "cell_type": "code",
      "execution_count": null,
      "metadata": {
        "id": "0nIi_HAV-8RO",
        "outputId": "b92c0a4c-a55a-493b-d1e5-6cb3cf9db5b1"
      },
      "outputs": [],
      "source": [
        "user_question = \"Do I need to pay more after a raise?\"\n",
        "query_embedding = model.encode(user_question, convert_to_tensor=True)\n",
        "query_embedding.shape"
      ]
    },
    {
      "cell_type": "markdown",
      "metadata": {
        "id": "szvTJFiW-8RO"
      },
      "source": [
        "Now, using cosine similarity, we can retrieve the most similar questions from the database - that is, we retrieve the most similar questions based on the highest similarity.\n",
        "\n",
        "Using `argsort`, we get the top 3 questions and print them."
      ]
    },
    {
      "cell_type": "code",
      "execution_count": null,
      "metadata": {
        "id": "Z-EpYN3h-8RO",
        "outputId": "3fb0f482-4947-49f7-c8bc-e1706d49cfc4"
      },
      "outputs": [],
      "source": [
        "import numpy as np\n",
        "\n",
        "similarities = -util.pytorch_cos_sim(query_embedding, corpus_embeddings)[0]\n",
        "top_3 = similarities.cpu().argsort()[:3]\n",
        "for i, top_n in enumerate(top_3):\n",
        "    print(\n",
        "        f\"Top {i+1} question (p={-similarities[top_n]}): {list(faq.keys())[top_n]}\"\n",
        "    )\n",
        "    print(f\"Answer: {list(faq.values())[top_n]}\")"
      ]
    },
    {
      "cell_type": "markdown",
      "metadata": {
        "id": "Ua8B277W-8RO"
      },
      "source": [
        "`sentence_transformers` also offers a convenient utility called `semantic_search` for exactly this use case."
      ]
    },
    {
      "cell_type": "code",
      "execution_count": null,
      "metadata": {
        "id": "YgUYMFi0-8RO",
        "outputId": "09525711-2dae-4a8e-c35b-f30ccedef59b"
      },
      "outputs": [],
      "source": [
        "similarities = util.semantic_search(\n",
        "    query_embedding, corpus_embeddings, top_k=3\n",
        ")[0]\n",
        "for i, result in enumerate(similarities):\n",
        "    corpus_id = result[\"corpus_id\"]\n",
        "    score = result[\"score\"]\n",
        "    print(f\"Top {i+1} question (p={score}): {list(faq.keys())[corpus_id]}\")\n",
        "    print(f\"Answer: {list(faq.values())[corpus_id]}\")"
      ]
    },
    {
      "cell_type": "code",
      "execution_count": null,
      "metadata": {
        "id": "UwL71OJP-8RO"
      },
      "outputs": [],
      "source": []
    }
  ],
  "metadata": {
    "colab": {
      "include_colab_link": true,
      "provenance": []
    },
    "kernelspec": {
      "display_name": "python3",
      "name": "python3"
    },
    "language_info": {
      "codemirror_mode": {
        "name": "ipython",
        "version": 3
      },
      "file_extension": ".py",
      "mimetype": "text/x-python",
      "name": "python",
      "nbconvert_exporter": "python",
      "pygments_lexer": "ipython3",
      "version": "3.10.13"
    },
    "widgets": {
      "application/vnd.jupyter.widget-state+json": {
        "003a4eb4ac4d48f6b022f611cc0f782e": {
          "model_module": "@jupyter-widgets/base",
          "model_module_version": "1.2.0",
          "model_name": "LayoutModel",
          "state": {
            "_model_module": "@jupyter-widgets/base",
            "_model_module_version": "1.2.0",
            "_model_name": "LayoutModel",
            "_view_count": null,
            "_view_module": "@jupyter-widgets/base",
            "_view_module_version": "1.2.0",
            "_view_name": "LayoutView",
            "align_content": null,
            "align_items": null,
            "align_self": null,
            "border": null,
            "bottom": null,
            "display": null,
            "flex": null,
            "flex_flow": null,
            "grid_area": null,
            "grid_auto_columns": null,
            "grid_auto_flow": null,
            "grid_auto_rows": null,
            "grid_column": null,
            "grid_gap": null,
            "grid_row": null,
            "grid_template_areas": null,
            "grid_template_columns": null,
            "grid_template_rows": null,
            "height": null,
            "justify_content": null,
            "justify_items": null,
            "left": null,
            "margin": null,
            "max_height": null,
            "max_width": null,
            "min_height": null,
            "min_width": null,
            "object_fit": null,
            "object_position": null,
            "order": null,
            "overflow": null,
            "overflow_x": null,
            "overflow_y": null,
            "padding": null,
            "right": null,
            "top": null,
            "visibility": null,
            "width": null
          }
        },
        "013b193851b7436ca4ee18cc0e7b72b2": {
          "model_module": "@jupyter-widgets/controls",
          "model_module_version": "1.5.0",
          "model_name": "FloatProgressModel",
          "state": {
            "_dom_classes": [],
            "_model_module": "@jupyter-widgets/controls",
            "_model_module_version": "1.5.0",
            "_model_name": "FloatProgressModel",
            "_view_count": null,
            "_view_module": "@jupyter-widgets/controls",
            "_view_module_version": "1.5.0",
            "_view_name": "ProgressView",
            "bar_style": "success",
            "description": "",
            "description_tooltip": null,
            "layout": "IPY_MODEL_5ba09a4b91ef402187aef8c355eb4ee6",
            "max": 1222317369,
            "min": 0,
            "orientation": "horizontal",
            "style": "IPY_MODEL_05a3c344c3e24b2fbd9716d43eae60ef",
            "value": 1222317369
          }
        },
        "05a3c344c3e24b2fbd9716d43eae60ef": {
          "model_module": "@jupyter-widgets/controls",
          "model_module_version": "1.5.0",
          "model_name": "ProgressStyleModel",
          "state": {
            "_model_module": "@jupyter-widgets/controls",
            "_model_module_version": "1.5.0",
            "_model_name": "ProgressStyleModel",
            "_view_count": null,
            "_view_module": "@jupyter-widgets/base",
            "_view_module_version": "1.2.0",
            "_view_name": "StyleView",
            "bar_color": null,
            "description_width": ""
          }
        },
        "0f7cd2f5edba49e1aaa85c16c1099081": {
          "model_module": "@jupyter-widgets/controls",
          "model_module_version": "1.5.0",
          "model_name": "HBoxModel",
          "state": {
            "_dom_classes": [],
            "_model_module": "@jupyter-widgets/controls",
            "_model_module_version": "1.5.0",
            "_model_name": "HBoxModel",
            "_view_count": null,
            "_view_module": "@jupyter-widgets/controls",
            "_view_module_version": "1.5.0",
            "_view_name": "HBoxView",
            "box_style": "",
            "children": [
              "IPY_MODEL_d6d2d9475d424bd896aa1fe01f18783b",
              "IPY_MODEL_013b193851b7436ca4ee18cc0e7b72b2",
              "IPY_MODEL_7d8464c3c4fc44f7849ac91ef4e9fa35"
            ],
            "layout": "IPY_MODEL_63603f985fb64a2c998850e34643acee"
          }
        },
        "144b84c8bf1c4678979ea142221174d4": {
          "model_module": "@jupyter-widgets/base",
          "model_module_version": "1.2.0",
          "model_name": "LayoutModel",
          "state": {
            "_model_module": "@jupyter-widgets/base",
            "_model_module_version": "1.2.0",
            "_model_name": "LayoutModel",
            "_view_count": null,
            "_view_module": "@jupyter-widgets/base",
            "_view_module_version": "1.2.0",
            "_view_name": "LayoutView",
            "align_content": null,
            "align_items": null,
            "align_self": null,
            "border": null,
            "bottom": null,
            "display": null,
            "flex": null,
            "flex_flow": null,
            "grid_area": null,
            "grid_auto_columns": null,
            "grid_auto_flow": null,
            "grid_auto_rows": null,
            "grid_column": null,
            "grid_gap": null,
            "grid_row": null,
            "grid_template_areas": null,
            "grid_template_columns": null,
            "grid_template_rows": null,
            "height": null,
            "justify_content": null,
            "justify_items": null,
            "left": null,
            "margin": null,
            "max_height": null,
            "max_width": null,
            "min_height": null,
            "min_width": null,
            "object_fit": null,
            "object_position": null,
            "order": null,
            "overflow": null,
            "overflow_x": null,
            "overflow_y": null,
            "padding": null,
            "right": null,
            "top": null,
            "visibility": null,
            "width": null
          }
        },
        "1482513230d04f49a5026858722b55c6": {
          "model_module": "@jupyter-widgets/base",
          "model_module_version": "1.2.0",
          "model_name": "LayoutModel",
          "state": {
            "_model_module": "@jupyter-widgets/base",
            "_model_module_version": "1.2.0",
            "_model_name": "LayoutModel",
            "_view_count": null,
            "_view_module": "@jupyter-widgets/base",
            "_view_module_version": "1.2.0",
            "_view_name": "LayoutView",
            "align_content": null,
            "align_items": null,
            "align_self": null,
            "border": null,
            "bottom": null,
            "display": null,
            "flex": null,
            "flex_flow": null,
            "grid_area": null,
            "grid_auto_columns": null,
            "grid_auto_flow": null,
            "grid_auto_rows": null,
            "grid_column": null,
            "grid_gap": null,
            "grid_row": null,
            "grid_template_areas": null,
            "grid_template_columns": null,
            "grid_template_rows": null,
            "height": null,
            "justify_content": null,
            "justify_items": null,
            "left": null,
            "margin": null,
            "max_height": null,
            "max_width": null,
            "min_height": null,
            "min_width": null,
            "object_fit": null,
            "object_position": null,
            "order": null,
            "overflow": null,
            "overflow_x": null,
            "overflow_y": null,
            "padding": null,
            "right": null,
            "top": null,
            "visibility": null,
            "width": null
          }
        },
        "1c986b6574ff43929777dcafcdd1cf04": {
          "model_module": "@jupyter-widgets/controls",
          "model_module_version": "1.5.0",
          "model_name": "FloatProgressModel",
          "state": {
            "_dom_classes": [],
            "_model_module": "@jupyter-widgets/controls",
            "_model_module_version": "1.5.0",
            "_model_name": "FloatProgressModel",
            "_view_count": null,
            "_view_module": "@jupyter-widgets/controls",
            "_view_module_version": "1.5.0",
            "_view_name": "ProgressView",
            "bar_style": "success",
            "description": "",
            "description_tooltip": null,
            "layout": "IPY_MODEL_fe3d7a3505804b909fbc17936acbfcd3",
            "max": 898822,
            "min": 0,
            "orientation": "horizontal",
            "style": "IPY_MODEL_75200e01c201471fb734cc34676f4235",
            "value": 898822
          }
        },
        "2137cfcda6134a218d61503f70591d50": {
          "model_module": "@jupyter-widgets/controls",
          "model_module_version": "1.5.0",
          "model_name": "HTMLModel",
          "state": {
            "_dom_classes": [],
            "_model_module": "@jupyter-widgets/controls",
            "_model_module_version": "1.5.0",
            "_model_name": "HTMLModel",
            "_view_count": null,
            "_view_module": "@jupyter-widgets/controls",
            "_view_module_version": "1.5.0",
            "_view_name": "HTMLView",
            "description": "",
            "description_tooltip": null,
            "layout": "IPY_MODEL_7032d25052f64d57adf9ce51c6de59b5",
            "placeholder": "​",
            "style": "IPY_MODEL_97f1211540614b8a9ea377efedd2f300",
            "value": "merges.txt: 100%"
          }
        },
        "28802ea81c3840d9906cd7aa5ff65043": {
          "model_module": "@jupyter-widgets/controls",
          "model_module_version": "1.5.0",
          "model_name": "HBoxModel",
          "state": {
            "_dom_classes": [],
            "_model_module": "@jupyter-widgets/controls",
            "_model_module_version": "1.5.0",
            "_model_name": "HBoxModel",
            "_view_count": null,
            "_view_module": "@jupyter-widgets/controls",
            "_view_module_version": "1.5.0",
            "_view_name": "HBoxView",
            "box_style": "",
            "children": [
              "IPY_MODEL_7c8e8b6722d74210b3cebba8466913e2",
              "IPY_MODEL_c37144f6fd15477b963c1389656f53ab",
              "IPY_MODEL_39cd7e449f7c40cf973926c0b5e4fea2"
            ],
            "layout": "IPY_MODEL_003a4eb4ac4d48f6b022f611cc0f782e"
          }
        },
        "2a54d004ccba493ebc26b19c0f1631cd": {
          "model_module": "@jupyter-widgets/controls",
          "model_module_version": "1.5.0",
          "model_name": "FloatProgressModel",
          "state": {
            "_dom_classes": [],
            "_model_module": "@jupyter-widgets/controls",
            "_model_module_version": "1.5.0",
            "_model_name": "FloatProgressModel",
            "_view_count": null,
            "_view_module": "@jupyter-widgets/controls",
            "_view_module_version": "1.5.0",
            "_view_name": "ProgressView",
            "bar_style": "success",
            "description": "",
            "description_tooltip": null,
            "layout": "IPY_MODEL_b8531e80c6cc4a40935d450e4854bacb",
            "max": 456318,
            "min": 0,
            "orientation": "horizontal",
            "style": "IPY_MODEL_5b3e01afa15842c5884bb87a7ab5748c",
            "value": 456318
          }
        },
        "2e3d4f812abc434dbd38faeedd2f91be": {
          "model_module": "@jupyter-widgets/controls",
          "model_module_version": "1.5.0",
          "model_name": "ProgressStyleModel",
          "state": {
            "_model_module": "@jupyter-widgets/controls",
            "_model_module_version": "1.5.0",
            "_model_name": "ProgressStyleModel",
            "_view_count": null,
            "_view_module": "@jupyter-widgets/base",
            "_view_module_version": "1.2.0",
            "_view_name": "StyleView",
            "bar_color": null,
            "description_width": ""
          }
        },
        "33f032de450146a29131655ed7eb8cde": {
          "model_module": "@jupyter-widgets/base",
          "model_module_version": "1.2.0",
          "model_name": "LayoutModel",
          "state": {
            "_model_module": "@jupyter-widgets/base",
            "_model_module_version": "1.2.0",
            "_model_name": "LayoutModel",
            "_view_count": null,
            "_view_module": "@jupyter-widgets/base",
            "_view_module_version": "1.2.0",
            "_view_name": "LayoutView",
            "align_content": null,
            "align_items": null,
            "align_self": null,
            "border": null,
            "bottom": null,
            "display": null,
            "flex": null,
            "flex_flow": null,
            "grid_area": null,
            "grid_auto_columns": null,
            "grid_auto_flow": null,
            "grid_auto_rows": null,
            "grid_column": null,
            "grid_gap": null,
            "grid_row": null,
            "grid_template_areas": null,
            "grid_template_columns": null,
            "grid_template_rows": null,
            "height": null,
            "justify_content": null,
            "justify_items": null,
            "left": null,
            "margin": null,
            "max_height": null,
            "max_width": null,
            "min_height": null,
            "min_width": null,
            "object_fit": null,
            "object_position": null,
            "order": null,
            "overflow": null,
            "overflow_x": null,
            "overflow_y": null,
            "padding": null,
            "right": null,
            "top": null,
            "visibility": null,
            "width": null
          }
        },
        "3428ed686df040018b3404f1a3e87604": {
          "model_module": "@jupyter-widgets/controls",
          "model_module_version": "1.5.0",
          "model_name": "FloatProgressModel",
          "state": {
            "_dom_classes": [],
            "_model_module": "@jupyter-widgets/controls",
            "_model_module_version": "1.5.0",
            "_model_name": "FloatProgressModel",
            "_view_count": null,
            "_view_module": "@jupyter-widgets/controls",
            "_view_module_version": "1.5.0",
            "_view_name": "ProgressView",
            "bar_style": "success",
            "description": "",
            "description_tooltip": null,
            "layout": "IPY_MODEL_b783baf41d6e44e8991856756f746a6b",
            "max": 26,
            "min": 0,
            "orientation": "horizontal",
            "style": "IPY_MODEL_2e3d4f812abc434dbd38faeedd2f91be",
            "value": 26
          }
        },
        "39cd7e449f7c40cf973926c0b5e4fea2": {
          "model_module": "@jupyter-widgets/controls",
          "model_module_version": "1.5.0",
          "model_name": "HTMLModel",
          "state": {
            "_dom_classes": [],
            "_model_module": "@jupyter-widgets/controls",
            "_model_module_version": "1.5.0",
            "_model_name": "HTMLModel",
            "_view_count": null,
            "_view_module": "@jupyter-widgets/controls",
            "_view_module_version": "1.5.0",
            "_view_name": "HTMLView",
            "description": "",
            "description_tooltip": null,
            "layout": "IPY_MODEL_99354c97564240bfa0bb43fe6bb48e49",
            "placeholder": "​",
            "style": "IPY_MODEL_5966b211ffa84cf5999b7adcb0be7d73",
            "value": " 1.80k/1.80k [00:00&lt;00:00, 67.8kB/s]"
          }
        },
        "3b794048c52f4ad8bc4462d0b1f29129": {
          "model_module": "@jupyter-widgets/controls",
          "model_module_version": "1.5.0",
          "model_name": "DescriptionStyleModel",
          "state": {
            "_model_module": "@jupyter-widgets/controls",
            "_model_module_version": "1.5.0",
            "_model_name": "DescriptionStyleModel",
            "_view_count": null,
            "_view_module": "@jupyter-widgets/base",
            "_view_module_version": "1.2.0",
            "_view_name": "StyleView",
            "description_width": ""
          }
        },
        "3c8d495617284397b5fb928301c65396": {
          "model_module": "@jupyter-widgets/controls",
          "model_module_version": "1.5.0",
          "model_name": "DescriptionStyleModel",
          "state": {
            "_model_module": "@jupyter-widgets/controls",
            "_model_module_version": "1.5.0",
            "_model_name": "DescriptionStyleModel",
            "_view_count": null,
            "_view_module": "@jupyter-widgets/base",
            "_view_module_version": "1.2.0",
            "_view_name": "StyleView",
            "description_width": ""
          }
        },
        "434bef96d43f4d34aff526ba2305a4d1": {
          "model_module": "@jupyter-widgets/base",
          "model_module_version": "1.2.0",
          "model_name": "LayoutModel",
          "state": {
            "_model_module": "@jupyter-widgets/base",
            "_model_module_version": "1.2.0",
            "_model_name": "LayoutModel",
            "_view_count": null,
            "_view_module": "@jupyter-widgets/base",
            "_view_module_version": "1.2.0",
            "_view_name": "LayoutView",
            "align_content": null,
            "align_items": null,
            "align_self": null,
            "border": null,
            "bottom": null,
            "display": null,
            "flex": null,
            "flex_flow": null,
            "grid_area": null,
            "grid_auto_columns": null,
            "grid_auto_flow": null,
            "grid_auto_rows": null,
            "grid_column": null,
            "grid_gap": null,
            "grid_row": null,
            "grid_template_areas": null,
            "grid_template_columns": null,
            "grid_template_rows": null,
            "height": null,
            "justify_content": null,
            "justify_items": null,
            "left": null,
            "margin": null,
            "max_height": null,
            "max_width": null,
            "min_height": null,
            "min_width": null,
            "object_fit": null,
            "object_position": null,
            "order": null,
            "overflow": null,
            "overflow_x": null,
            "overflow_y": null,
            "padding": null,
            "right": null,
            "top": null,
            "visibility": null,
            "width": null
          }
        },
        "499691677e644394a50ec6cf1ec0aec0": {
          "model_module": "@jupyter-widgets/base",
          "model_module_version": "1.2.0",
          "model_name": "LayoutModel",
          "state": {
            "_model_module": "@jupyter-widgets/base",
            "_model_module_version": "1.2.0",
            "_model_name": "LayoutModel",
            "_view_count": null,
            "_view_module": "@jupyter-widgets/base",
            "_view_module_version": "1.2.0",
            "_view_name": "LayoutView",
            "align_content": null,
            "align_items": null,
            "align_self": null,
            "border": null,
            "bottom": null,
            "display": null,
            "flex": null,
            "flex_flow": null,
            "grid_area": null,
            "grid_auto_columns": null,
            "grid_auto_flow": null,
            "grid_auto_rows": null,
            "grid_column": null,
            "grid_gap": null,
            "grid_row": null,
            "grid_template_areas": null,
            "grid_template_columns": null,
            "grid_template_rows": null,
            "height": null,
            "justify_content": null,
            "justify_items": null,
            "left": null,
            "margin": null,
            "max_height": null,
            "max_width": null,
            "min_height": null,
            "min_width": null,
            "object_fit": null,
            "object_position": null,
            "order": null,
            "overflow": null,
            "overflow_x": null,
            "overflow_y": null,
            "padding": null,
            "right": null,
            "top": null,
            "visibility": null,
            "width": null
          }
        },
        "51130de564c9445ba9762e8579a91a62": {
          "model_module": "@jupyter-widgets/controls",
          "model_module_version": "1.5.0",
          "model_name": "HTMLModel",
          "state": {
            "_dom_classes": [],
            "_model_module": "@jupyter-widgets/controls",
            "_model_module_version": "1.5.0",
            "_model_name": "HTMLModel",
            "_view_count": null,
            "_view_module": "@jupyter-widgets/controls",
            "_view_module_version": "1.5.0",
            "_view_name": "HTMLView",
            "description": "",
            "description_tooltip": null,
            "layout": "IPY_MODEL_33f032de450146a29131655ed7eb8cde",
            "placeholder": "​",
            "style": "IPY_MODEL_3b794048c52f4ad8bc4462d0b1f29129",
            "value": " 456k/456k [00:00&lt;00:00, 776kB/s]"
          }
        },
        "5806ddad8a814a8d9fd542b8858cec58": {
          "model_module": "@jupyter-widgets/controls",
          "model_module_version": "1.5.0",
          "model_name": "HBoxModel",
          "state": {
            "_dom_classes": [],
            "_model_module": "@jupyter-widgets/controls",
            "_model_module_version": "1.5.0",
            "_model_name": "HBoxModel",
            "_view_count": null,
            "_view_module": "@jupyter-widgets/controls",
            "_view_module_version": "1.5.0",
            "_view_name": "HBoxView",
            "box_style": "",
            "children": [
              "IPY_MODEL_c19c9bf4e9834ba4a6c5b1d73deb2fcf",
              "IPY_MODEL_3428ed686df040018b3404f1a3e87604",
              "IPY_MODEL_cbf8d955d2d745948888b337e7705238"
            ],
            "layout": "IPY_MODEL_878425613f9b4dc5b89508243efd684c"
          }
        },
        "593eb705281a4b59a2a8ae9b56c2cf61": {
          "model_module": "@jupyter-widgets/base",
          "model_module_version": "1.2.0",
          "model_name": "LayoutModel",
          "state": {
            "_model_module": "@jupyter-widgets/base",
            "_model_module_version": "1.2.0",
            "_model_name": "LayoutModel",
            "_view_count": null,
            "_view_module": "@jupyter-widgets/base",
            "_view_module_version": "1.2.0",
            "_view_name": "LayoutView",
            "align_content": null,
            "align_items": null,
            "align_self": null,
            "border": null,
            "bottom": null,
            "display": null,
            "flex": null,
            "flex_flow": null,
            "grid_area": null,
            "grid_auto_columns": null,
            "grid_auto_flow": null,
            "grid_auto_rows": null,
            "grid_column": null,
            "grid_gap": null,
            "grid_row": null,
            "grid_template_areas": null,
            "grid_template_columns": null,
            "grid_template_rows": null,
            "height": null,
            "justify_content": null,
            "justify_items": null,
            "left": null,
            "margin": null,
            "max_height": null,
            "max_width": null,
            "min_height": null,
            "min_width": null,
            "object_fit": null,
            "object_position": null,
            "order": null,
            "overflow": null,
            "overflow_x": null,
            "overflow_y": null,
            "padding": null,
            "right": null,
            "top": null,
            "visibility": null,
            "width": null
          }
        },
        "5966b211ffa84cf5999b7adcb0be7d73": {
          "model_module": "@jupyter-widgets/controls",
          "model_module_version": "1.5.0",
          "model_name": "DescriptionStyleModel",
          "state": {
            "_model_module": "@jupyter-widgets/controls",
            "_model_module_version": "1.5.0",
            "_model_name": "DescriptionStyleModel",
            "_view_count": null,
            "_view_module": "@jupyter-widgets/base",
            "_view_module_version": "1.2.0",
            "_view_name": "StyleView",
            "description_width": ""
          }
        },
        "5b3e01afa15842c5884bb87a7ab5748c": {
          "model_module": "@jupyter-widgets/controls",
          "model_module_version": "1.5.0",
          "model_name": "ProgressStyleModel",
          "state": {
            "_model_module": "@jupyter-widgets/controls",
            "_model_module_version": "1.5.0",
            "_model_name": "ProgressStyleModel",
            "_view_count": null,
            "_view_module": "@jupyter-widgets/base",
            "_view_module_version": "1.2.0",
            "_view_name": "StyleView",
            "bar_color": null,
            "description_width": ""
          }
        },
        "5ba09a4b91ef402187aef8c355eb4ee6": {
          "model_module": "@jupyter-widgets/base",
          "model_module_version": "1.2.0",
          "model_name": "LayoutModel",
          "state": {
            "_model_module": "@jupyter-widgets/base",
            "_model_module_version": "1.2.0",
            "_model_name": "LayoutModel",
            "_view_count": null,
            "_view_module": "@jupyter-widgets/base",
            "_view_module_version": "1.2.0",
            "_view_name": "LayoutView",
            "align_content": null,
            "align_items": null,
            "align_self": null,
            "border": null,
            "bottom": null,
            "display": null,
            "flex": null,
            "flex_flow": null,
            "grid_area": null,
            "grid_auto_columns": null,
            "grid_auto_flow": null,
            "grid_auto_rows": null,
            "grid_column": null,
            "grid_gap": null,
            "grid_row": null,
            "grid_template_areas": null,
            "grid_template_columns": null,
            "grid_template_rows": null,
            "height": null,
            "justify_content": null,
            "justify_items": null,
            "left": null,
            "margin": null,
            "max_height": null,
            "max_width": null,
            "min_height": null,
            "min_width": null,
            "object_fit": null,
            "object_position": null,
            "order": null,
            "overflow": null,
            "overflow_x": null,
            "overflow_y": null,
            "padding": null,
            "right": null,
            "top": null,
            "visibility": null,
            "width": null
          }
        },
        "5f82e9c6f33f4cc283f84e381a0fdeae": {
          "model_module": "@jupyter-widgets/controls",
          "model_module_version": "1.5.0",
          "model_name": "HTMLModel",
          "state": {
            "_dom_classes": [],
            "_model_module": "@jupyter-widgets/controls",
            "_model_module_version": "1.5.0",
            "_model_name": "HTMLModel",
            "_view_count": null,
            "_view_module": "@jupyter-widgets/controls",
            "_view_module_version": "1.5.0",
            "_view_name": "HTMLView",
            "description": "",
            "description_tooltip": null,
            "layout": "IPY_MODEL_1482513230d04f49a5026858722b55c6",
            "placeholder": "​",
            "style": "IPY_MODEL_95b1ceddeb8545098701b8e7a6bcf175",
            "value": "vocab.json: 100%"
          }
        },
        "63603f985fb64a2c998850e34643acee": {
          "model_module": "@jupyter-widgets/base",
          "model_module_version": "1.2.0",
          "model_name": "LayoutModel",
          "state": {
            "_model_module": "@jupyter-widgets/base",
            "_model_module_version": "1.2.0",
            "_model_name": "LayoutModel",
            "_view_count": null,
            "_view_module": "@jupyter-widgets/base",
            "_view_module_version": "1.2.0",
            "_view_name": "LayoutView",
            "align_content": null,
            "align_items": null,
            "align_self": null,
            "border": null,
            "bottom": null,
            "display": null,
            "flex": null,
            "flex_flow": null,
            "grid_area": null,
            "grid_auto_columns": null,
            "grid_auto_flow": null,
            "grid_auto_rows": null,
            "grid_column": null,
            "grid_gap": null,
            "grid_row": null,
            "grid_template_areas": null,
            "grid_template_columns": null,
            "grid_template_rows": null,
            "height": null,
            "justify_content": null,
            "justify_items": null,
            "left": null,
            "margin": null,
            "max_height": null,
            "max_width": null,
            "min_height": null,
            "min_width": null,
            "object_fit": null,
            "object_position": null,
            "order": null,
            "overflow": null,
            "overflow_x": null,
            "overflow_y": null,
            "padding": null,
            "right": null,
            "top": null,
            "visibility": null,
            "width": null
          }
        },
        "691b93a9143a472ebe855c89b03d3c38": {
          "model_module": "@jupyter-widgets/controls",
          "model_module_version": "1.5.0",
          "model_name": "DescriptionStyleModel",
          "state": {
            "_model_module": "@jupyter-widgets/controls",
            "_model_module_version": "1.5.0",
            "_model_name": "DescriptionStyleModel",
            "_view_count": null,
            "_view_module": "@jupyter-widgets/base",
            "_view_module_version": "1.2.0",
            "_view_name": "StyleView",
            "description_width": ""
          }
        },
        "7032d25052f64d57adf9ce51c6de59b5": {
          "model_module": "@jupyter-widgets/base",
          "model_module_version": "1.2.0",
          "model_name": "LayoutModel",
          "state": {
            "_model_module": "@jupyter-widgets/base",
            "_model_module_version": "1.2.0",
            "_model_name": "LayoutModel",
            "_view_count": null,
            "_view_module": "@jupyter-widgets/base",
            "_view_module_version": "1.2.0",
            "_view_name": "LayoutView",
            "align_content": null,
            "align_items": null,
            "align_self": null,
            "border": null,
            "bottom": null,
            "display": null,
            "flex": null,
            "flex_flow": null,
            "grid_area": null,
            "grid_auto_columns": null,
            "grid_auto_flow": null,
            "grid_auto_rows": null,
            "grid_column": null,
            "grid_gap": null,
            "grid_row": null,
            "grid_template_areas": null,
            "grid_template_columns": null,
            "grid_template_rows": null,
            "height": null,
            "justify_content": null,
            "justify_items": null,
            "left": null,
            "margin": null,
            "max_height": null,
            "max_width": null,
            "min_height": null,
            "min_width": null,
            "object_fit": null,
            "object_position": null,
            "order": null,
            "overflow": null,
            "overflow_x": null,
            "overflow_y": null,
            "padding": null,
            "right": null,
            "top": null,
            "visibility": null,
            "width": null
          }
        },
        "7437c3ff6c2c4cf7a857ce7bf49ba3c2": {
          "model_module": "@jupyter-widgets/controls",
          "model_module_version": "1.5.0",
          "model_name": "HBoxModel",
          "state": {
            "_dom_classes": [],
            "_model_module": "@jupyter-widgets/controls",
            "_model_module_version": "1.5.0",
            "_model_name": "HBoxModel",
            "_view_count": null,
            "_view_module": "@jupyter-widgets/controls",
            "_view_module_version": "1.5.0",
            "_view_name": "HBoxView",
            "box_style": "",
            "children": [
              "IPY_MODEL_5f82e9c6f33f4cc283f84e381a0fdeae",
              "IPY_MODEL_1c986b6574ff43929777dcafcdd1cf04",
              "IPY_MODEL_a95b7b52e53c4ce2924d7ed4e497e644"
            ],
            "layout": "IPY_MODEL_99e5ded2213943bb9a30c3547dfeabbd"
          }
        },
        "75200e01c201471fb734cc34676f4235": {
          "model_module": "@jupyter-widgets/controls",
          "model_module_version": "1.5.0",
          "model_name": "ProgressStyleModel",
          "state": {
            "_model_module": "@jupyter-widgets/controls",
            "_model_module_version": "1.5.0",
            "_model_name": "ProgressStyleModel",
            "_view_count": null,
            "_view_module": "@jupyter-widgets/base",
            "_view_module_version": "1.2.0",
            "_view_name": "StyleView",
            "bar_color": null,
            "description_width": ""
          }
        },
        "77d2b20ad45f4297a54595a2feb02197": {
          "model_module": "@jupyter-widgets/controls",
          "model_module_version": "1.5.0",
          "model_name": "DescriptionStyleModel",
          "state": {
            "_model_module": "@jupyter-widgets/controls",
            "_model_module_version": "1.5.0",
            "_model_name": "DescriptionStyleModel",
            "_view_count": null,
            "_view_module": "@jupyter-widgets/base",
            "_view_module_version": "1.2.0",
            "_view_name": "StyleView",
            "description_width": ""
          }
        },
        "7c8e8b6722d74210b3cebba8466913e2": {
          "model_module": "@jupyter-widgets/controls",
          "model_module_version": "1.5.0",
          "model_name": "HTMLModel",
          "state": {
            "_dom_classes": [],
            "_model_module": "@jupyter-widgets/controls",
            "_model_module_version": "1.5.0",
            "_model_name": "HTMLModel",
            "_view_count": null,
            "_view_module": "@jupyter-widgets/controls",
            "_view_module_version": "1.5.0",
            "_view_name": "HTMLView",
            "description": "",
            "description_tooltip": null,
            "layout": "IPY_MODEL_434bef96d43f4d34aff526ba2305a4d1",
            "placeholder": "​",
            "style": "IPY_MODEL_a6b25af8de99426a87fcc6d692c8d2d2",
            "value": "config.json: 100%"
          }
        },
        "7d8464c3c4fc44f7849ac91ef4e9fa35": {
          "model_module": "@jupyter-widgets/controls",
          "model_module_version": "1.5.0",
          "model_name": "HTMLModel",
          "state": {
            "_dom_classes": [],
            "_model_module": "@jupyter-widgets/controls",
            "_model_module_version": "1.5.0",
            "_model_name": "HTMLModel",
            "_view_count": null,
            "_view_module": "@jupyter-widgets/controls",
            "_view_module_version": "1.5.0",
            "_view_name": "HTMLView",
            "description": "",
            "description_tooltip": null,
            "layout": "IPY_MODEL_cfd3eb59e43641739dbffabc3da8b816",
            "placeholder": "​",
            "style": "IPY_MODEL_bc7de38cc28949a5aae41cdec504443f",
            "value": " 1.22G/1.22G [00:16&lt;00:00, 78.8MB/s]"
          }
        },
        "878425613f9b4dc5b89508243efd684c": {
          "model_module": "@jupyter-widgets/base",
          "model_module_version": "1.2.0",
          "model_name": "LayoutModel",
          "state": {
            "_model_module": "@jupyter-widgets/base",
            "_model_module_version": "1.2.0",
            "_model_name": "LayoutModel",
            "_view_count": null,
            "_view_module": "@jupyter-widgets/base",
            "_view_module_version": "1.2.0",
            "_view_name": "LayoutView",
            "align_content": null,
            "align_items": null,
            "align_self": null,
            "border": null,
            "bottom": null,
            "display": null,
            "flex": null,
            "flex_flow": null,
            "grid_area": null,
            "grid_auto_columns": null,
            "grid_auto_flow": null,
            "grid_auto_rows": null,
            "grid_column": null,
            "grid_gap": null,
            "grid_row": null,
            "grid_template_areas": null,
            "grid_template_columns": null,
            "grid_template_rows": null,
            "height": null,
            "justify_content": null,
            "justify_items": null,
            "left": null,
            "margin": null,
            "max_height": null,
            "max_width": null,
            "min_height": null,
            "min_width": null,
            "object_fit": null,
            "object_position": null,
            "order": null,
            "overflow": null,
            "overflow_x": null,
            "overflow_y": null,
            "padding": null,
            "right": null,
            "top": null,
            "visibility": null,
            "width": null
          }
        },
        "8898738cb0654dcfb9c9a05ac0736e06": {
          "model_module": "@jupyter-widgets/controls",
          "model_module_version": "1.5.0",
          "model_name": "HBoxModel",
          "state": {
            "_dom_classes": [],
            "_model_module": "@jupyter-widgets/controls",
            "_model_module_version": "1.5.0",
            "_model_name": "HBoxModel",
            "_view_count": null,
            "_view_module": "@jupyter-widgets/controls",
            "_view_module_version": "1.5.0",
            "_view_name": "HBoxView",
            "box_style": "",
            "children": [
              "IPY_MODEL_2137cfcda6134a218d61503f70591d50",
              "IPY_MODEL_2a54d004ccba493ebc26b19c0f1631cd",
              "IPY_MODEL_51130de564c9445ba9762e8579a91a62"
            ],
            "layout": "IPY_MODEL_144b84c8bf1c4678979ea142221174d4"
          }
        },
        "8c3275764be748c6a931d3af2fbe67a8": {
          "model_module": "@jupyter-widgets/base",
          "model_module_version": "1.2.0",
          "model_name": "LayoutModel",
          "state": {
            "_model_module": "@jupyter-widgets/base",
            "_model_module_version": "1.2.0",
            "_model_name": "LayoutModel",
            "_view_count": null,
            "_view_module": "@jupyter-widgets/base",
            "_view_module_version": "1.2.0",
            "_view_name": "LayoutView",
            "align_content": null,
            "align_items": null,
            "align_self": null,
            "border": null,
            "bottom": null,
            "display": null,
            "flex": null,
            "flex_flow": null,
            "grid_area": null,
            "grid_auto_columns": null,
            "grid_auto_flow": null,
            "grid_auto_rows": null,
            "grid_column": null,
            "grid_gap": null,
            "grid_row": null,
            "grid_template_areas": null,
            "grid_template_columns": null,
            "grid_template_rows": null,
            "height": null,
            "justify_content": null,
            "justify_items": null,
            "left": null,
            "margin": null,
            "max_height": null,
            "max_width": null,
            "min_height": null,
            "min_width": null,
            "object_fit": null,
            "object_position": null,
            "order": null,
            "overflow": null,
            "overflow_x": null,
            "overflow_y": null,
            "padding": null,
            "right": null,
            "top": null,
            "visibility": null,
            "width": null
          }
        },
        "95b1ceddeb8545098701b8e7a6bcf175": {
          "model_module": "@jupyter-widgets/controls",
          "model_module_version": "1.5.0",
          "model_name": "DescriptionStyleModel",
          "state": {
            "_model_module": "@jupyter-widgets/controls",
            "_model_module_version": "1.5.0",
            "_model_name": "DescriptionStyleModel",
            "_view_count": null,
            "_view_module": "@jupyter-widgets/base",
            "_view_module_version": "1.2.0",
            "_view_name": "StyleView",
            "description_width": ""
          }
        },
        "97f1211540614b8a9ea377efedd2f300": {
          "model_module": "@jupyter-widgets/controls",
          "model_module_version": "1.5.0",
          "model_name": "DescriptionStyleModel",
          "state": {
            "_model_module": "@jupyter-widgets/controls",
            "_model_module_version": "1.5.0",
            "_model_name": "DescriptionStyleModel",
            "_view_count": null,
            "_view_module": "@jupyter-widgets/base",
            "_view_module_version": "1.2.0",
            "_view_name": "StyleView",
            "description_width": ""
          }
        },
        "99354c97564240bfa0bb43fe6bb48e49": {
          "model_module": "@jupyter-widgets/base",
          "model_module_version": "1.2.0",
          "model_name": "LayoutModel",
          "state": {
            "_model_module": "@jupyter-widgets/base",
            "_model_module_version": "1.2.0",
            "_model_name": "LayoutModel",
            "_view_count": null,
            "_view_module": "@jupyter-widgets/base",
            "_view_module_version": "1.2.0",
            "_view_name": "LayoutView",
            "align_content": null,
            "align_items": null,
            "align_self": null,
            "border": null,
            "bottom": null,
            "display": null,
            "flex": null,
            "flex_flow": null,
            "grid_area": null,
            "grid_auto_columns": null,
            "grid_auto_flow": null,
            "grid_auto_rows": null,
            "grid_column": null,
            "grid_gap": null,
            "grid_row": null,
            "grid_template_areas": null,
            "grid_template_columns": null,
            "grid_template_rows": null,
            "height": null,
            "justify_content": null,
            "justify_items": null,
            "left": null,
            "margin": null,
            "max_height": null,
            "max_width": null,
            "min_height": null,
            "min_width": null,
            "object_fit": null,
            "object_position": null,
            "order": null,
            "overflow": null,
            "overflow_x": null,
            "overflow_y": null,
            "padding": null,
            "right": null,
            "top": null,
            "visibility": null,
            "width": null
          }
        },
        "99e5ded2213943bb9a30c3547dfeabbd": {
          "model_module": "@jupyter-widgets/base",
          "model_module_version": "1.2.0",
          "model_name": "LayoutModel",
          "state": {
            "_model_module": "@jupyter-widgets/base",
            "_model_module_version": "1.2.0",
            "_model_name": "LayoutModel",
            "_view_count": null,
            "_view_module": "@jupyter-widgets/base",
            "_view_module_version": "1.2.0",
            "_view_name": "LayoutView",
            "align_content": null,
            "align_items": null,
            "align_self": null,
            "border": null,
            "bottom": null,
            "display": null,
            "flex": null,
            "flex_flow": null,
            "grid_area": null,
            "grid_auto_columns": null,
            "grid_auto_flow": null,
            "grid_auto_rows": null,
            "grid_column": null,
            "grid_gap": null,
            "grid_row": null,
            "grid_template_areas": null,
            "grid_template_columns": null,
            "grid_template_rows": null,
            "height": null,
            "justify_content": null,
            "justify_items": null,
            "left": null,
            "margin": null,
            "max_height": null,
            "max_width": null,
            "min_height": null,
            "min_width": null,
            "object_fit": null,
            "object_position": null,
            "order": null,
            "overflow": null,
            "overflow_x": null,
            "overflow_y": null,
            "padding": null,
            "right": null,
            "top": null,
            "visibility": null,
            "width": null
          }
        },
        "a6b25af8de99426a87fcc6d692c8d2d2": {
          "model_module": "@jupyter-widgets/controls",
          "model_module_version": "1.5.0",
          "model_name": "DescriptionStyleModel",
          "state": {
            "_model_module": "@jupyter-widgets/controls",
            "_model_module_version": "1.5.0",
            "_model_name": "DescriptionStyleModel",
            "_view_count": null,
            "_view_module": "@jupyter-widgets/base",
            "_view_module_version": "1.2.0",
            "_view_name": "StyleView",
            "description_width": ""
          }
        },
        "a95b7b52e53c4ce2924d7ed4e497e644": {
          "model_module": "@jupyter-widgets/controls",
          "model_module_version": "1.5.0",
          "model_name": "HTMLModel",
          "state": {
            "_dom_classes": [],
            "_model_module": "@jupyter-widgets/controls",
            "_model_module_version": "1.5.0",
            "_model_name": "HTMLModel",
            "_view_count": null,
            "_view_module": "@jupyter-widgets/controls",
            "_view_module_version": "1.5.0",
            "_view_name": "HTMLView",
            "description": "",
            "description_tooltip": null,
            "layout": "IPY_MODEL_eb39e3c285bc4ebe8ca5b6073ff5d082",
            "placeholder": "​",
            "style": "IPY_MODEL_691b93a9143a472ebe855c89b03d3c38",
            "value": " 899k/899k [00:00&lt;00:00, 1.16MB/s]"
          }
        },
        "ac7585589de7404d931a3f91fa49321d": {
          "model_module": "@jupyter-widgets/controls",
          "model_module_version": "1.5.0",
          "model_name": "DescriptionStyleModel",
          "state": {
            "_model_module": "@jupyter-widgets/controls",
            "_model_module_version": "1.5.0",
            "_model_name": "DescriptionStyleModel",
            "_view_count": null,
            "_view_module": "@jupyter-widgets/base",
            "_view_module_version": "1.2.0",
            "_view_name": "StyleView",
            "description_width": ""
          }
        },
        "b783baf41d6e44e8991856756f746a6b": {
          "model_module": "@jupyter-widgets/base",
          "model_module_version": "1.2.0",
          "model_name": "LayoutModel",
          "state": {
            "_model_module": "@jupyter-widgets/base",
            "_model_module_version": "1.2.0",
            "_model_name": "LayoutModel",
            "_view_count": null,
            "_view_module": "@jupyter-widgets/base",
            "_view_module_version": "1.2.0",
            "_view_name": "LayoutView",
            "align_content": null,
            "align_items": null,
            "align_self": null,
            "border": null,
            "bottom": null,
            "display": null,
            "flex": null,
            "flex_flow": null,
            "grid_area": null,
            "grid_auto_columns": null,
            "grid_auto_flow": null,
            "grid_auto_rows": null,
            "grid_column": null,
            "grid_gap": null,
            "grid_row": null,
            "grid_template_areas": null,
            "grid_template_columns": null,
            "grid_template_rows": null,
            "height": null,
            "justify_content": null,
            "justify_items": null,
            "left": null,
            "margin": null,
            "max_height": null,
            "max_width": null,
            "min_height": null,
            "min_width": null,
            "object_fit": null,
            "object_position": null,
            "order": null,
            "overflow": null,
            "overflow_x": null,
            "overflow_y": null,
            "padding": null,
            "right": null,
            "top": null,
            "visibility": null,
            "width": null
          }
        },
        "b8531e80c6cc4a40935d450e4854bacb": {
          "model_module": "@jupyter-widgets/base",
          "model_module_version": "1.2.0",
          "model_name": "LayoutModel",
          "state": {
            "_model_module": "@jupyter-widgets/base",
            "_model_module_version": "1.2.0",
            "_model_name": "LayoutModel",
            "_view_count": null,
            "_view_module": "@jupyter-widgets/base",
            "_view_module_version": "1.2.0",
            "_view_name": "LayoutView",
            "align_content": null,
            "align_items": null,
            "align_self": null,
            "border": null,
            "bottom": null,
            "display": null,
            "flex": null,
            "flex_flow": null,
            "grid_area": null,
            "grid_auto_columns": null,
            "grid_auto_flow": null,
            "grid_auto_rows": null,
            "grid_column": null,
            "grid_gap": null,
            "grid_row": null,
            "grid_template_areas": null,
            "grid_template_columns": null,
            "grid_template_rows": null,
            "height": null,
            "justify_content": null,
            "justify_items": null,
            "left": null,
            "margin": null,
            "max_height": null,
            "max_width": null,
            "min_height": null,
            "min_width": null,
            "object_fit": null,
            "object_position": null,
            "order": null,
            "overflow": null,
            "overflow_x": null,
            "overflow_y": null,
            "padding": null,
            "right": null,
            "top": null,
            "visibility": null,
            "width": null
          }
        },
        "bc7de38cc28949a5aae41cdec504443f": {
          "model_module": "@jupyter-widgets/controls",
          "model_module_version": "1.5.0",
          "model_name": "DescriptionStyleModel",
          "state": {
            "_model_module": "@jupyter-widgets/controls",
            "_model_module_version": "1.5.0",
            "_model_name": "DescriptionStyleModel",
            "_view_count": null,
            "_view_module": "@jupyter-widgets/base",
            "_view_module_version": "1.2.0",
            "_view_name": "StyleView",
            "description_width": ""
          }
        },
        "c19c9bf4e9834ba4a6c5b1d73deb2fcf": {
          "model_module": "@jupyter-widgets/controls",
          "model_module_version": "1.5.0",
          "model_name": "HTMLModel",
          "state": {
            "_dom_classes": [],
            "_model_module": "@jupyter-widgets/controls",
            "_model_module_version": "1.5.0",
            "_model_name": "HTMLModel",
            "_view_count": null,
            "_view_module": "@jupyter-widgets/controls",
            "_view_module_version": "1.5.0",
            "_view_name": "HTMLView",
            "description": "",
            "description_tooltip": null,
            "layout": "IPY_MODEL_499691677e644394a50ec6cf1ec0aec0",
            "placeholder": "​",
            "style": "IPY_MODEL_3c8d495617284397b5fb928301c65396",
            "value": "tokenizer_config.json: 100%"
          }
        },
        "c37144f6fd15477b963c1389656f53ab": {
          "model_module": "@jupyter-widgets/controls",
          "model_module_version": "1.5.0",
          "model_name": "FloatProgressModel",
          "state": {
            "_dom_classes": [],
            "_model_module": "@jupyter-widgets/controls",
            "_model_module_version": "1.5.0",
            "_model_name": "FloatProgressModel",
            "_view_count": null,
            "_view_module": "@jupyter-widgets/controls",
            "_view_module_version": "1.5.0",
            "_view_name": "ProgressView",
            "bar_style": "success",
            "description": "",
            "description_tooltip": null,
            "layout": "IPY_MODEL_593eb705281a4b59a2a8ae9b56c2cf61",
            "max": 1802,
            "min": 0,
            "orientation": "horizontal",
            "style": "IPY_MODEL_cc5d2439ec5c40a1af1a2993b8deacbf",
            "value": 1802
          }
        },
        "cbf8d955d2d745948888b337e7705238": {
          "model_module": "@jupyter-widgets/controls",
          "model_module_version": "1.5.0",
          "model_name": "HTMLModel",
          "state": {
            "_dom_classes": [],
            "_model_module": "@jupyter-widgets/controls",
            "_model_module_version": "1.5.0",
            "_model_name": "HTMLModel",
            "_view_count": null,
            "_view_module": "@jupyter-widgets/controls",
            "_view_module_version": "1.5.0",
            "_view_name": "HTMLView",
            "description": "",
            "description_tooltip": null,
            "layout": "IPY_MODEL_8c3275764be748c6a931d3af2fbe67a8",
            "placeholder": "​",
            "style": "IPY_MODEL_77d2b20ad45f4297a54595a2feb02197",
            "value": " 26.0/26.0 [00:00&lt;00:00, 207B/s]"
          }
        },
        "cc5d2439ec5c40a1af1a2993b8deacbf": {
          "model_module": "@jupyter-widgets/controls",
          "model_module_version": "1.5.0",
          "model_name": "ProgressStyleModel",
          "state": {
            "_model_module": "@jupyter-widgets/controls",
            "_model_module_version": "1.5.0",
            "_model_name": "ProgressStyleModel",
            "_view_count": null,
            "_view_module": "@jupyter-widgets/base",
            "_view_module_version": "1.2.0",
            "_view_name": "StyleView",
            "bar_color": null,
            "description_width": ""
          }
        },
        "cfd3eb59e43641739dbffabc3da8b816": {
          "model_module": "@jupyter-widgets/base",
          "model_module_version": "1.2.0",
          "model_name": "LayoutModel",
          "state": {
            "_model_module": "@jupyter-widgets/base",
            "_model_module_version": "1.2.0",
            "_model_name": "LayoutModel",
            "_view_count": null,
            "_view_module": "@jupyter-widgets/base",
            "_view_module_version": "1.2.0",
            "_view_name": "LayoutView",
            "align_content": null,
            "align_items": null,
            "align_self": null,
            "border": null,
            "bottom": null,
            "display": null,
            "flex": null,
            "flex_flow": null,
            "grid_area": null,
            "grid_auto_columns": null,
            "grid_auto_flow": null,
            "grid_auto_rows": null,
            "grid_column": null,
            "grid_gap": null,
            "grid_row": null,
            "grid_template_areas": null,
            "grid_template_columns": null,
            "grid_template_rows": null,
            "height": null,
            "justify_content": null,
            "justify_items": null,
            "left": null,
            "margin": null,
            "max_height": null,
            "max_width": null,
            "min_height": null,
            "min_width": null,
            "object_fit": null,
            "object_position": null,
            "order": null,
            "overflow": null,
            "overflow_x": null,
            "overflow_y": null,
            "padding": null,
            "right": null,
            "top": null,
            "visibility": null,
            "width": null
          }
        },
        "d6d2d9475d424bd896aa1fe01f18783b": {
          "model_module": "@jupyter-widgets/controls",
          "model_module_version": "1.5.0",
          "model_name": "HTMLModel",
          "state": {
            "_dom_classes": [],
            "_model_module": "@jupyter-widgets/controls",
            "_model_module_version": "1.5.0",
            "_model_name": "HTMLModel",
            "_view_count": null,
            "_view_module": "@jupyter-widgets/controls",
            "_view_module_version": "1.5.0",
            "_view_name": "HTMLView",
            "description": "",
            "description_tooltip": null,
            "layout": "IPY_MODEL_dd1dbd45fb224dd8a910d70a1769c659",
            "placeholder": "​",
            "style": "IPY_MODEL_ac7585589de7404d931a3f91fa49321d",
            "value": "pytorch_model.bin: 100%"
          }
        },
        "dd1dbd45fb224dd8a910d70a1769c659": {
          "model_module": "@jupyter-widgets/base",
          "model_module_version": "1.2.0",
          "model_name": "LayoutModel",
          "state": {
            "_model_module": "@jupyter-widgets/base",
            "_model_module_version": "1.2.0",
            "_model_name": "LayoutModel",
            "_view_count": null,
            "_view_module": "@jupyter-widgets/base",
            "_view_module_version": "1.2.0",
            "_view_name": "LayoutView",
            "align_content": null,
            "align_items": null,
            "align_self": null,
            "border": null,
            "bottom": null,
            "display": null,
            "flex": null,
            "flex_flow": null,
            "grid_area": null,
            "grid_auto_columns": null,
            "grid_auto_flow": null,
            "grid_auto_rows": null,
            "grid_column": null,
            "grid_gap": null,
            "grid_row": null,
            "grid_template_areas": null,
            "grid_template_columns": null,
            "grid_template_rows": null,
            "height": null,
            "justify_content": null,
            "justify_items": null,
            "left": null,
            "margin": null,
            "max_height": null,
            "max_width": null,
            "min_height": null,
            "min_width": null,
            "object_fit": null,
            "object_position": null,
            "order": null,
            "overflow": null,
            "overflow_x": null,
            "overflow_y": null,
            "padding": null,
            "right": null,
            "top": null,
            "visibility": null,
            "width": null
          }
        },
        "eb39e3c285bc4ebe8ca5b6073ff5d082": {
          "model_module": "@jupyter-widgets/base",
          "model_module_version": "1.2.0",
          "model_name": "LayoutModel",
          "state": {
            "_model_module": "@jupyter-widgets/base",
            "_model_module_version": "1.2.0",
            "_model_name": "LayoutModel",
            "_view_count": null,
            "_view_module": "@jupyter-widgets/base",
            "_view_module_version": "1.2.0",
            "_view_name": "LayoutView",
            "align_content": null,
            "align_items": null,
            "align_self": null,
            "border": null,
            "bottom": null,
            "display": null,
            "flex": null,
            "flex_flow": null,
            "grid_area": null,
            "grid_auto_columns": null,
            "grid_auto_flow": null,
            "grid_auto_rows": null,
            "grid_column": null,
            "grid_gap": null,
            "grid_row": null,
            "grid_template_areas": null,
            "grid_template_columns": null,
            "grid_template_rows": null,
            "height": null,
            "justify_content": null,
            "justify_items": null,
            "left": null,
            "margin": null,
            "max_height": null,
            "max_width": null,
            "min_height": null,
            "min_width": null,
            "object_fit": null,
            "object_position": null,
            "order": null,
            "overflow": null,
            "overflow_x": null,
            "overflow_y": null,
            "padding": null,
            "right": null,
            "top": null,
            "visibility": null,
            "width": null
          }
        },
        "fe3d7a3505804b909fbc17936acbfcd3": {
          "model_module": "@jupyter-widgets/base",
          "model_module_version": "1.2.0",
          "model_name": "LayoutModel",
          "state": {
            "_model_module": "@jupyter-widgets/base",
            "_model_module_version": "1.2.0",
            "_model_name": "LayoutModel",
            "_view_count": null,
            "_view_module": "@jupyter-widgets/base",
            "_view_module_version": "1.2.0",
            "_view_name": "LayoutView",
            "align_content": null,
            "align_items": null,
            "align_self": null,
            "border": null,
            "bottom": null,
            "display": null,
            "flex": null,
            "flex_flow": null,
            "grid_area": null,
            "grid_auto_columns": null,
            "grid_auto_flow": null,
            "grid_auto_rows": null,
            "grid_column": null,
            "grid_gap": null,
            "grid_row": null,
            "grid_template_areas": null,
            "grid_template_columns": null,
            "grid_template_rows": null,
            "height": null,
            "justify_content": null,
            "justify_items": null,
            "left": null,
            "margin": null,
            "max_height": null,
            "max_width": null,
            "min_height": null,
            "min_width": null,
            "object_fit": null,
            "object_position": null,
            "order": null,
            "overflow": null,
            "overflow_x": null,
            "overflow_y": null,
            "padding": null,
            "right": null,
            "top": null,
            "visibility": null,
            "width": null
          }
        }
      }
    }
  },
  "nbformat": 4,
  "nbformat_minor": 0
}
